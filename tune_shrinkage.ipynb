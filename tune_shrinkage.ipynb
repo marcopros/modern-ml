{
 "cells": [
  {
   "cell_type": "markdown",
   "id": "aa40c9a1",
   "metadata": {},
   "source": [
    "# Quick Shrinkage Tuning\n",
    "\n",
    "Test diversi shrinkage factors sull'ensemble esistente per trovare il valore ottimale.\n",
    "Questo è molto veloce perché non riallena i modelli."
   ]
  },
  {
   "cell_type": "code",
   "execution_count": null,
   "id": "f41d25c4",
   "metadata": {},
   "outputs": [],
   "source": [
    "import pandas as pd\n",
    "import numpy as np\n",
    "from pathlib import Path\n",
    "\n",
    "# Carica le predictions già generate\n",
    "pred_features = pd.read_csv('data/processed/prediction_features_20241231.csv') if Path('data/processed/prediction_features_20241231.csv').exists() else None\n",
    "\n",
    "# Se non esiste, le ricreiamo dal notebook precedente\n",
    "if pred_features is None:\n",
    "    print(\"⚠️ File features non trovato. Esegui prima Short_notebook_1.ipynb fino alla cella di prediction.\")\n",
    "else:\n",
    "    print(f\"✅ Features caricate: {pred_features.shape}\")"
   ]
  },
  {
   "cell_type": "markdown",
   "id": "f9b6a87f",
   "metadata": {},
   "source": [
    "## Testa Diversi Shrinkage Factors\n",
    "\n",
    "Il tuo score attuale (9214.57) suggerisce che stai ancora over-predicting.\n",
    "Testiamo shrinkage più aggressivi: 0.90, 0.92, 0.93, 0.94, 0.95, 0.96"
   ]
  },
  {
   "cell_type": "code",
   "execution_count": null,
   "id": "47168198",
   "metadata": {},
   "outputs": [],
   "source": [
    "# Devi avere pred_catboost e pred_lgb dal notebook precedente\n",
    "# Se hai chiuso il kernel, ricarica i modelli e rigenera le predictions\n",
    "\n",
    "print(\"Questa cella richiede che tu abbia eseguito Short_notebook_1.ipynb\")\n",
    "print(\"e che le variabili pred_catboost e pred_lgb siano disponibili.\")\n",
    "print(\"\\nOppure ricarica i modelli salvati se li hai esportati.\")"
   ]
  }
 ],
 "metadata": {
  "language_info": {
   "name": "python"
  }
 },
 "nbformat": 4,
 "nbformat_minor": 5
}

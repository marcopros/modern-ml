{
 "cells": [
  {
   "cell_type": "markdown",
   "metadata": {
    "application/vnd.databricks.v1+cell": {
     "cellMetadata": {
      "byteLimit": 2048000,
      "rowLimit": 10000
     },
     "inputWidgets": {},
     "nuid": "4a1a6c81-5ace-46df-9423-3a34dbeb769a",
     "showTitle": false,
     "tableResultSettingsMap": {},
     "title": ""
    }
   },
   "source": [
    "\n",
    "# Visualization\n",
    "\n",
    "This script is only for demo. You can modify the visualizing function to fit your own use.\n",
    "\n",
    "The script visualizes the cumulative weight of incoming deliveries of the 5 biggest raw materials in the 150 first days of 2014"
   ]
  },
  {
   "cell_type": "code",
   "execution_count": 0,
   "metadata": {
    "application/vnd.databricks.v1+cell": {
     "cellMetadata": {
      "byteLimit": 2048000,
      "rowLimit": 10000
     },
     "inputWidgets": {},
     "nuid": "5987f880-ec4d-4c20-a2f0-d1ee7b5810bd",
     "showTitle": false,
     "tableResultSettingsMap": {},
     "title": ""
    }
   },
   "outputs": [],
   "source": [
    "# Import required libraries\n",
    "import pandas as pd\n",
    "import matplotlib.pyplot as plt\n",
    "import matplotlib.dates as mdates\n",
    "\n",
    "# Set plot style for visual clarity\n",
    "plt.style.use('seaborn-v0_8')"
   ]
  },
  {
   "cell_type": "code",
   "execution_count": 0,
   "metadata": {
    "application/vnd.databricks.v1+cell": {
     "cellMetadata": {
      "byteLimit": 2048000,
      "rowLimit": 10000
     },
     "inputWidgets": {},
     "nuid": "535e1f9c-3509-4d40-80db-1d72bcc69e60",
     "showTitle": false,
     "tableResultSettingsMap": {},
     "title": ""
    }
   },
   "outputs": [],
   "source": [
    "# Load the receival data\n",
    "df = pd.read_csv('./data/kernel/receivals.csv')\n",
    "\n",
    "# Convert 'date_arrival' to timezone-naive datetime\n",
    "df['date_arrival'] = pd.to_datetime(df['date_arrival'], utc=True).dt.tz_localize(None)\n",
    "\n",
    "# Filter data to include only entries from January through May 2014\n",
    "mask = (df['date_arrival'] >= pd.Timestamp('2014-01-01')) & (df['date_arrival'] < pd.Timestamp('2014-05-31'))\n",
    "df_2014 = df.loc[mask].copy()"
   ]
  },
  {
   "cell_type": "code",
   "execution_count": 0,
   "metadata": {
    "application/vnd.databricks.v1+cell": {
     "cellMetadata": {
      "byteLimit": 2048000,
      "rowLimit": 10000
     },
     "inputWidgets": {},
     "nuid": "ffd7116c-7f4c-4317-b1b3-8523acfd35ee",
     "showTitle": false,
     "tableResultSettingsMap": {},
     "title": ""
    }
   },
   "outputs": [],
   "source": [
    "def visualize_cumsum_top_rm(df):\n",
    "    \"\"\"\n",
    "    Generates a cumulative net weight plot for the top 5 most active rm_id entries.\n",
    "\n",
    "    Parameters:\n",
    "        df (pd.DataFrame): A DataFrame containing at least 'date_arrival', 'net_weight', and 'rm_id'.\n",
    "\n",
    "    Returns:\n",
    "        None. Displays a matplotlib plot.\n",
    "    \"\"\"\n",
    "    # Identify top 5 rm_ids by total net weight\n",
    "    top_rm_ids = df.groupby('rm_id')['net_weight'].sum().nlargest(5).index\n",
    "    df_top = df[df['rm_id'].isin(top_rm_ids)].copy()\n",
    "\n",
    "    # Sort data and compute cumulative sum\n",
    "    df_top.sort_values(by=['rm_id', 'date_arrival'], inplace=True)\n",
    "    df_top['cumsum_weight'] = df_top.groupby('rm_id')['net_weight'].cumsum()\n",
    "\n",
    "    # Create figure and axis\n",
    "    fig, ax = plt.subplots(figsize=(12, 6))\n",
    "\n",
    "    # Plot each rm_id group\n",
    "    for rm_id, group in df_top.groupby('rm_id'):\n",
    "        ax.plot(group['date_arrival'], group['cumsum_weight'], label=f\"RM ID {rm_id}\")\n",
    "\n",
    "    # Format the plot\n",
    "    ax.set_title('Cumulative Net Weight for Top 5 RM IDs (January–May 2014)', fontsize=16)\n",
    "    ax.set_xlabel('Date', fontsize=12)\n",
    "    ax.set_ylabel('Cumulative Net Weight (kg)', fontsize=12)\n",
    "    ax.legend(title='RM ID')\n",
    "    ax.grid(True)\n",
    "\n",
    "    # Improve date formatting on x-axis\n",
    "    ax.xaxis.set_major_formatter(mdates.DateFormatter('%b %d'))\n",
    "    fig.autofmt_xdate()\n",
    "\n",
    "    plt.tight_layout()\n",
    "    plt.show()"
   ]
  },
  {
   "cell_type": "code",
   "execution_count": 0,
   "metadata": {
    "application/vnd.databricks.v1+cell": {
     "cellMetadata": {
      "byteLimit": 2048000,
      "rowLimit": 10000
     },
     "inputWidgets": {},
     "nuid": "e2386866-2e42-492d-a308-f4fdc8d91a16",
     "showTitle": false,
     "tableResultSettingsMap": {},
     "title": ""
    }
   },
   "outputs": [],
   "source": [
    "# Generate the visualization\n",
    "visualize_cumsum_top_rm(df_2014)"
   ]
  }
 ],
 "metadata": {
  "application/vnd.databricks.v1+notebook": {
   "computePreferences": null,
   "dashboards": [],
   "environmentMetadata": null,
   "inputWidgetPreferences": null,
   "language": "python",
   "notebookMetadata": {
    "pythonIndentUnit": 4
   },
   "notebookName": "material_receival_visualization",
   "widgets": {}
  },
  "kernelspec": {
   "display_name": "Python 3",
   "language": "python",
   "name": "python3"
  },
  "language_info": {
   "name": "python"
  }
 },
 "nbformat": 4,
 "nbformat_minor": 0
}

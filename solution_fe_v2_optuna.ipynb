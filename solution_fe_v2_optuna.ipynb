{
 "cells": [
  {
   "cell_type": "markdown",
   "id": "9f29f86f",
   "metadata": {},
   "source": [
    "# 🎯 Hydro Forecasting - Optuna Hyperparameter Tuning\n",
    "\n",
    "**Baseline**: FE V1 Conservative - Score 9,800 (Rank 103/187)\n",
    "\n",
    "**Objective**: Optimize CatBoost + LightGBM hyperparameters to:\n",
    "1. Minimize quantile loss (α=0.2)\n",
    "2. Target under-prediction ratio ~80%\n",
    "3. Balance between train/validation performance\n",
    "\n",
    "**Strategy**:\n",
    "- Run 300-500 Optuna trials per model\n",
    "- Multi-objective optimization (QL + under-pred ratio)\n",
    "- Test multiple shrink factors\n",
    "- Cross-validation for final model\n",
    "\n",
    "**Expected improvement**: 10-20% → Target score ~7,800-8,800 (Rank ~70-90)"
   ]
  },
  {
   "cell_type": "markdown",
   "id": "5e7f5fe6",
   "metadata": {},
   "source": [
    "## 📦 Setup & Imports"
   ]
  },
  {
   "cell_type": "code",
   "execution_count": 1,
   "id": "f3d5e57e",
   "metadata": {},
   "outputs": [
    {
     "name": "stdout",
     "output_type": "stream",
     "text": [
      "✅ Imports complete\n",
      "Optuna version: 4.5.0\n"
     ]
    }
   ],
   "source": [
    "import warnings\n",
    "warnings.filterwarnings('ignore')\n",
    "\n",
    "import numpy as np\n",
    "import pandas as pd\n",
    "import matplotlib.pyplot as plt\n",
    "import seaborn as sns\n",
    "from pathlib import Path\n",
    "import time\n",
    "from datetime import datetime\n",
    "\n",
    "# Machine Learning\n",
    "from sklearn.model_selection import train_test_split, KFold\n",
    "import lightgbm as lgb\n",
    "from catboost import CatBoostRegressor, Pool\n",
    "import optuna\n",
    "from optuna.visualization import (\n",
    "    plot_optimization_history,\n",
    "    plot_param_importances,\n",
    "    plot_parallel_coordinate\n",
    ")\n",
    "\n",
    "# Styling\n",
    "sns.set_style('whitegrid')\n",
    "plt.rcParams['figure.figsize'] = (14, 6)\n",
    "\n",
    "RANDOM_STATE = 42\n",
    "np.random.seed(RANDOM_STATE)\n",
    "\n",
    "print(\"✅ Imports complete\")\n",
    "print(f\"Optuna version: {optuna.__version__}\")"
   ]
  },
  {
   "cell_type": "markdown",
   "id": "e0e4a2fa",
   "metadata": {},
   "source": [
    "## 📊 Load Data from V1"
   ]
  },
  {
   "cell_type": "code",
   "execution_count": 2,
   "id": "4bcfd3a9",
   "metadata": {},
   "outputs": [
    {
     "name": "stdout",
     "output_type": "stream",
     "text": [
      "Feature matrix shape: (30450, 136)\n"
     ]
    }
   ],
   "source": [
    "# Load feature matrix\n",
    "features_path = Path('data/processed/prediction_features_20241231.csv')\n",
    "df = pd.read_csv(features_path)\n",
    "\n",
    "# Load training data (generated from V1)\n",
    "# We'll regenerate training samples for consistency\n",
    "print(f\"Feature matrix shape: {df.shape}\")"
   ]
  },
  {
   "cell_type": "code",
   "execution_count": 3,
   "id": "3f81bb31",
   "metadata": {},
   "outputs": [
    {
     "name": "stdout",
     "output_type": "stream",
     "text": [
      "✅ Feature engineering functions loaded\n"
     ]
    }
   ],
   "source": [
    "# Load and prepare training data (reuse from V1)\n",
    "import sys\n",
    "sys.path.append('src')\n",
    "from feature_engineering import (\n",
    "    load_raw_data,\n",
    "    build_daily_receivals,\n",
    "    engineer_temporal_features,\n",
    "    engineer_calendar_features,\n",
    "    engineer_purchase_order_features,\n",
    "    engineer_metadata_features,\n",
    ")\n",
    "\n",
    "print(\"✅ Feature engineering functions loaded\")"
   ]
  },
  {
   "cell_type": "code",
   "execution_count": 4,
   "id": "f1de68fd",
   "metadata": {},
   "outputs": [
    {
     "name": "stdout",
     "output_type": "stream",
     "text": [
      "Loading raw data...\n",
      "Receivals loaded: (122590, 11)\n",
      "Receivals loaded: (122590, 11)\n"
     ]
    }
   ],
   "source": [
    "# Generate training samples (40k for better coverage)\n",
    "print(\"Loading raw data...\")\n",
    "raw = load_raw_data(Path('.'))\n",
    "\n",
    "receivals = pd.read_csv(\n",
    "    'data/kernel/receivals.csv',\n",
    "    parse_dates=['date_arrival']\n",
    ")\n",
    "receivals['date_arrival'] = pd.to_datetime(\n",
    "    receivals['date_arrival'], utc=True\n",
    ").dt.tz_convert(None)\n",
    "receivals['arrival_date'] = receivals['date_arrival'].dt.normalize()\n",
    "receivals['net_weight'] = receivals['net_weight'].fillna(0.0)\n",
    "\n",
    "print(f\"Receivals loaded: {receivals.shape}\")"
   ]
  },
  {
   "cell_type": "code",
   "execution_count": 5,
   "id": "02aa9c5c",
   "metadata": {},
   "outputs": [
    {
     "name": "stdout",
     "output_type": "stream",
     "text": [
      "Generating 40,000 training samples...\n",
      "Training samples: (40000, 6)\n",
      "Zero targets: 66.5%\n",
      "Training samples: (40000, 6)\n",
      "Zero targets: 66.5%\n"
     ]
    }
   ],
   "source": [
    "def create_training_samples(\n",
    "    receivals: pd.DataFrame,\n",
    "    n_samples: int = 40000,\n",
    "    min_date: str = '2020-01-01',\n",
    "    max_date: str = '2024-11-30',\n",
    "    min_horizon: int = 1,\n",
    "    max_horizon: int = 150,\n",
    "    random_state: int = 42\n",
    ") -> pd.DataFrame:\n",
    "    \"\"\"Create training samples with random anchor dates and horizons.\"\"\"\n",
    "    np.random.seed(random_state)\n",
    "    \n",
    "    receivals_filtered = receivals[\n",
    "        (receivals['arrival_date'] >= pd.Timestamp(min_date)) &\n",
    "        (receivals['arrival_date'] <= pd.Timestamp(max_date))\n",
    "    ].copy()\n",
    "    \n",
    "    rm_ids = receivals_filtered['rm_id'].unique()\n",
    "    date_range = pd.date_range(start=min_date, end=max_date, freq='D')\n",
    "    \n",
    "    samples = []\n",
    "    for _ in range(n_samples):\n",
    "        anchor_date = np.random.choice(date_range[:-max_horizon])\n",
    "        rm_id = np.random.choice(rm_ids)\n",
    "        horizon_days = np.random.randint(min_horizon, max_horizon + 1)\n",
    "        \n",
    "        forecast_start = anchor_date + pd.Timedelta(days=1)\n",
    "        forecast_end = forecast_start + pd.Timedelta(days=horizon_days - 1)\n",
    "        \n",
    "        mask = (\n",
    "            (receivals_filtered['rm_id'] == rm_id) &\n",
    "            (receivals_filtered['arrival_date'] >= forecast_start) &\n",
    "            (receivals_filtered['arrival_date'] <= forecast_end)\n",
    "        )\n",
    "        actual_weight = receivals_filtered.loc[mask, 'net_weight'].sum()\n",
    "        \n",
    "        samples.append({\n",
    "            'rm_id': rm_id,\n",
    "            'anchor_date': anchor_date,\n",
    "            'forecast_start_date': forecast_start,\n",
    "            'forecast_end_date': forecast_end,\n",
    "            'horizon_days': horizon_days,\n",
    "            'target': actual_weight\n",
    "        })\n",
    "    \n",
    "    return pd.DataFrame(samples)\n",
    "\n",
    "print(\"Generating 40,000 training samples...\")\n",
    "train_samples = create_training_samples(\n",
    "    receivals,\n",
    "    n_samples=40000,\n",
    "    random_state=RANDOM_STATE\n",
    ")\n",
    "\n",
    "print(f\"Training samples: {train_samples.shape}\")\n",
    "print(f\"Zero targets: {(train_samples['target'] == 0).mean():.1%}\")"
   ]
  },
  {
   "cell_type": "code",
   "execution_count": 6,
   "id": "1555ad38",
   "metadata": {},
   "outputs": [
    {
     "name": "stdout",
     "output_type": "stream",
     "text": [
      "Building daily receivals...\n",
      "Engineering temporal features...\n",
      "Temporal features: (1517222, 91)\n",
      "Temporal features: (1517222, 91)\n"
     ]
    }
   ],
   "source": [
    "# Build features for training samples\n",
    "print(\"Building daily receivals...\")\n",
    "daily = build_daily_receivals(raw.receivals, end_date=pd.Timestamp('2024-11-30'))\n",
    "\n",
    "print(\"Engineering temporal features...\")\n",
    "temporal = engineer_temporal_features(daily)\n",
    "temporal = engineer_calendar_features(temporal)\n",
    "\n",
    "print(f\"Temporal features: {temporal.shape}\")"
   ]
  },
  {
   "cell_type": "code",
   "execution_count": 7,
   "id": "a1ec2007",
   "metadata": {},
   "outputs": [
    {
     "name": "stdout",
     "output_type": "stream",
     "text": [
      "Engineering PO features (this may take a few minutes)...\n",
      "Processing 1646 unique anchor dates...\n",
      "  Progress: 0/1646\n",
      "  Progress: 100/1646\n",
      "  Progress: 100/1646\n",
      "  Progress: 200/1646\n",
      "  Progress: 200/1646\n",
      "  Progress: 300/1646\n",
      "  Progress: 300/1646\n",
      "  Progress: 400/1646\n",
      "  Progress: 400/1646\n",
      "  Progress: 500/1646\n",
      "  Progress: 500/1646\n",
      "  Progress: 600/1646\n",
      "  Progress: 600/1646\n",
      "  Progress: 700/1646\n",
      "  Progress: 700/1646\n",
      "  Progress: 800/1646\n",
      "  Progress: 800/1646\n",
      "  Progress: 900/1646\n",
      "  Progress: 900/1646\n",
      "  Progress: 1000/1646\n",
      "  Progress: 1000/1646\n",
      "  Progress: 1100/1646\n",
      "  Progress: 1100/1646\n",
      "  Progress: 1200/1646\n",
      "  Progress: 1200/1646\n",
      "  Progress: 1300/1646\n",
      "  Progress: 1300/1646\n",
      "  Progress: 1400/1646\n",
      "  Progress: 1400/1646\n",
      "  Progress: 1500/1646\n",
      "  Progress: 1500/1646\n",
      "  Progress: 1600/1646\n",
      "  Progress: 1600/1646\n",
      "✅ PO features: (85592, 26)\n",
      "✅ Metadata features: (203, 15)\n",
      "✅ PO features: (85592, 26)\n",
      "✅ Metadata features: (203, 15)\n"
     ]
    }
   ],
   "source": [
    "# Engineer PO and metadata features\n",
    "print(\"Engineering PO features (this may take a few minutes)...\")\n",
    "\n",
    "unique_anchors = train_samples['anchor_date'].unique()\n",
    "print(f\"Processing {len(unique_anchors)} unique anchor dates...\")\n",
    "\n",
    "po_features_list = []\n",
    "for i, anchor_date in enumerate(unique_anchors):\n",
    "    if i % 100 == 0:\n",
    "        print(f\"  Progress: {i}/{len(unique_anchors)}\")\n",
    "    \n",
    "    po_feat = engineer_purchase_order_features(\n",
    "        raw.purchase_orders,\n",
    "        raw.receivals,\n",
    "        pd.Timestamp(anchor_date)\n",
    "    )\n",
    "    po_feat['anchor_date'] = anchor_date\n",
    "    po_features_list.append(po_feat)\n",
    "\n",
    "po_features_all = pd.concat(po_features_list, ignore_index=True)\n",
    "\n",
    "meta_features = engineer_metadata_features(\n",
    "    raw.materials,\n",
    "    raw.receivals,\n",
    "    raw.transportation\n",
    ")\n",
    "\n",
    "print(f\"✅ PO features: {po_features_all.shape}\")\n",
    "print(f\"✅ Metadata features: {meta_features.shape}\")"
   ]
  },
  {
   "cell_type": "code",
   "execution_count": 8,
   "id": "d66bf95f",
   "metadata": {},
   "outputs": [
    {
     "name": "stdout",
     "output_type": "stream",
     "text": [
      "Merging features...\n",
      "✅ Training features: (40000, 137)\n",
      "✅ Training features: (40000, 137)\n"
     ]
    }
   ],
   "source": [
    "# Merge all features\n",
    "print(\"Merging features...\")\n",
    "\n",
    "train_features = train_samples.merge(\n",
    "    temporal,\n",
    "    left_on=['rm_id', 'anchor_date'],\n",
    "    right_on=['rm_id', 'date'],\n",
    "    how='left'\n",
    ")\n",
    "\n",
    "train_features = train_features.merge(\n",
    "    po_features_all,\n",
    "    on=['rm_id', 'anchor_date'],\n",
    "    how='left'\n",
    ")\n",
    "\n",
    "train_features = train_features.merge(\n",
    "    meta_features,\n",
    "    on='rm_id',\n",
    "    how='left'\n",
    ")\n",
    "\n",
    "# Add horizon features\n",
    "train_features['horizon_weeks'] = train_features['horizon_days'] / 7.0\n",
    "train_features['forecast_end_month'] = train_features['forecast_end_date'].dt.month\n",
    "train_features['forecast_end_quarter'] = train_features['forecast_end_date'].dt.quarter\n",
    "\n",
    "train_features = train_features.fillna(0)\n",
    "\n",
    "print(f\"✅ Training features: {train_features.shape}\")"
   ]
  },
  {
   "cell_type": "code",
   "execution_count": 9,
   "id": "0ca4c39a",
   "metadata": {},
   "outputs": [
    {
     "name": "stdout",
     "output_type": "stream",
     "text": [
      "X: (40000, 125)\n",
      "y: (40000,)\n",
      "Features: 125\n"
     ]
    }
   ],
   "source": [
    "# Prepare X, y\n",
    "exclude_cols = [\n",
    "    'rm_id', 'anchor_date', 'forecast_start_date', 'forecast_end_date',\n",
    "    'target', 'date', 'has_delivery', 'net_weight', 'cumulative_net_weight',\n",
    "    'ID', 'arrival_date',\n",
    "    'raw_material_alloy_mode', 'raw_material_format_mode', 'stock_location_mode'\n",
    "]\n",
    "\n",
    "feature_cols = [c for c in train_features.columns if c not in exclude_cols]\n",
    "\n",
    "X = train_features[feature_cols].copy()\n",
    "y = train_features['target'].copy()\n",
    "\n",
    "print(f\"X: {X.shape}\")\n",
    "print(f\"y: {y.shape}\")\n",
    "print(f\"Features: {len(feature_cols)}\")"
   ]
  },
  {
   "cell_type": "code",
   "execution_count": 10,
   "id": "1b41be6d",
   "metadata": {},
   "outputs": [
    {
     "name": "stdout",
     "output_type": "stream",
     "text": [
      "Train: (32000, 125)\n",
      "Validation: (8000, 125)\n"
     ]
    }
   ],
   "source": [
    "# Train/validation split\n",
    "X_train, X_val, y_train, y_val = train_test_split(\n",
    "    X, y,\n",
    "    test_size=0.2,\n",
    "    random_state=RANDOM_STATE\n",
    ")\n",
    "\n",
    "print(f\"Train: {X_train.shape}\")\n",
    "print(f\"Validation: {X_val.shape}\")"
   ]
  },
  {
   "cell_type": "markdown",
   "id": "95893358",
   "metadata": {},
   "source": [
    "## 📏 Quantile Loss Metric"
   ]
  },
  {
   "cell_type": "code",
   "execution_count": 11,
   "id": "a1761034",
   "metadata": {},
   "outputs": [
    {
     "name": "stdout",
     "output_type": "stream",
     "text": [
      "✅ Metric functions ready\n"
     ]
    }
   ],
   "source": [
    "def quantile_loss(y_true, y_pred, quantile=0.2):\n",
    "    \"\"\"Quantile loss function (same as Kaggle metric).\"\"\"\n",
    "    y_true = np.array(y_true)\n",
    "    y_pred = np.array(y_pred)\n",
    "    errors = y_true - y_pred\n",
    "    loss = np.where(\n",
    "        errors >= 0,\n",
    "        quantile * errors,\n",
    "        (quantile - 1) * errors\n",
    "    )\n",
    "    return np.mean(loss)  # Mean instead of sum for consistency with Kaggle\n",
    "\n",
    "def under_prediction_ratio(y_true, y_pred):\n",
    "    \"\"\"Calculate ratio of under-predictions.\"\"\"\n",
    "    return (y_pred < y_true).mean()\n",
    "\n",
    "print(\"✅ Metric functions ready\")"
   ]
  },
  {
   "cell_type": "markdown",
   "id": "1b8f9634",
   "metadata": {},
   "source": [
    "## 🔧 Optuna Objective Functions"
   ]
  },
  {
   "cell_type": "code",
   "execution_count": 12,
   "id": "a3372a62",
   "metadata": {},
   "outputs": [
    {
     "name": "stdout",
     "output_type": "stream",
     "text": [
      "✅ CatBoost objective ready\n"
     ]
    }
   ],
   "source": [
    "def objective_catboost(trial):\n",
    "    \"\"\"\n",
    "    Optuna objective for CatBoost.\n",
    "    \n",
    "    Multi-objective:\n",
    "    1. Minimize quantile loss\n",
    "    2. Target under-prediction ratio ~80%\n",
    "    \"\"\"\n",
    "    # Hyperparameters to tune\n",
    "    params = {\n",
    "        'loss_function': 'Quantile:alpha=0.2',\n",
    "        'iterations': trial.suggest_int('iterations', 1000, 8000),\n",
    "        'depth': trial.suggest_int('depth', 4, 12),\n",
    "        'learning_rate': trial.suggest_float('learning_rate', 0.005, 0.1, log=True),\n",
    "        'l2_leaf_reg': trial.suggest_float('l2_leaf_reg', 1.0, 10.0),\n",
    "        'random_strength': trial.suggest_float('random_strength', 0.5, 3.0),\n",
    "        'bagging_temperature': trial.suggest_float('bagging_temperature', 0.0, 1.0),\n",
    "        'border_count': trial.suggest_int('border_count', 32, 255),\n",
    "        'min_data_in_leaf': trial.suggest_int('min_data_in_leaf', 1, 100),\n",
    "        'bootstrap_type': trial.suggest_categorical('bootstrap_type', ['Bayesian', 'Bernoulli', 'MVS']),\n",
    "        'random_state': RANDOM_STATE,\n",
    "        'verbose': 0,\n",
    "        'early_stopping_rounds': 150\n",
    "    }\n",
    "    \n",
    "    # Conditional parameters\n",
    "    if params['bootstrap_type'] == 'Bernoulli':\n",
    "        params['subsample'] = trial.suggest_float('subsample', 0.5, 1.0)\n",
    "    \n",
    "    # Train model\n",
    "    model = CatBoostRegressor(**params)\n",
    "    model.fit(\n",
    "        X_train, y_train,\n",
    "        eval_set=(X_val, y_val),\n",
    "        use_best_model=True,\n",
    "        plot=False\n",
    "    )\n",
    "    \n",
    "    # Predictions\n",
    "    pred_val = model.predict(X_val)\n",
    "    \n",
    "    # Metrics\n",
    "    ql = quantile_loss(y_val, pred_val, 0.2)\n",
    "    under_pred = under_prediction_ratio(y_val, pred_val)\n",
    "    \n",
    "    # Penalty for deviation from target under-prediction ratio (80%)\n",
    "    under_pred_penalty = abs(under_pred - 0.80) * 1000  # Scale penalty\n",
    "    \n",
    "    # Combined objective: minimize QL + penalty\n",
    "    combined_score = ql + under_pred_penalty\n",
    "    \n",
    "    # Log metrics\n",
    "    trial.set_user_attr('quantile_loss', ql)\n",
    "    trial.set_user_attr('under_pred_ratio', under_pred)\n",
    "    trial.set_user_attr('iterations_used', model.get_best_iteration())\n",
    "    \n",
    "    return combined_score\n",
    "\n",
    "print(\"✅ CatBoost objective ready\")"
   ]
  },
  {
   "cell_type": "code",
   "execution_count": 13,
   "id": "0fd99dd9",
   "metadata": {},
   "outputs": [
    {
     "name": "stdout",
     "output_type": "stream",
     "text": [
      "✅ LightGBM objective ready\n"
     ]
    }
   ],
   "source": [
    "def objective_lightgbm(trial):\n",
    "    \"\"\"\n",
    "    Optuna objective for LightGBM.\n",
    "    \"\"\"\n",
    "    params = {\n",
    "        'objective': 'quantile',\n",
    "        'alpha': 0.2,\n",
    "        'metric': 'quantile',\n",
    "        'num_leaves': trial.suggest_int('num_leaves', 20, 150),\n",
    "        'learning_rate': trial.suggest_float('learning_rate', 0.005, 0.1, log=True),\n",
    "        'feature_fraction': trial.suggest_float('feature_fraction', 0.5, 1.0),\n",
    "        'bagging_fraction': trial.suggest_float('bagging_fraction', 0.5, 1.0),\n",
    "        'bagging_freq': trial.suggest_int('bagging_freq', 1, 10),\n",
    "        'min_data_in_leaf': trial.suggest_int('min_data_in_leaf', 5, 100),\n",
    "        'lambda_l1': trial.suggest_float('lambda_l1', 0.0, 10.0),\n",
    "        'lambda_l2': trial.suggest_float('lambda_l2', 0.0, 10.0),\n",
    "        'max_depth': trial.suggest_int('max_depth', 3, 12),\n",
    "        'min_gain_to_split': trial.suggest_float('min_gain_to_split', 0.0, 1.0),\n",
    "        'random_state': RANDOM_STATE,\n",
    "        'verbose': -1\n",
    "    }\n",
    "    \n",
    "    lgb_train = lgb.Dataset(X_train, y_train)\n",
    "    lgb_val = lgb.Dataset(X_val, y_val, reference=lgb_train)\n",
    "    \n",
    "    model = lgb.train(\n",
    "        params,\n",
    "        lgb_train,\n",
    "        num_boost_round=5000,\n",
    "        valid_sets=[lgb_val],\n",
    "        callbacks=[\n",
    "            lgb.early_stopping(stopping_rounds=150),\n",
    "            lgb.log_evaluation(period=0)\n",
    "        ]\n",
    "    )\n",
    "    \n",
    "    pred_val = model.predict(X_val, num_iteration=model.best_iteration)\n",
    "    \n",
    "    ql = quantile_loss(y_val, pred_val, 0.2)\n",
    "    under_pred = under_prediction_ratio(y_val, pred_val)\n",
    "    \n",
    "    under_pred_penalty = abs(under_pred - 0.80) * 1000\n",
    "    combined_score = ql + under_pred_penalty\n",
    "    \n",
    "    trial.set_user_attr('quantile_loss', ql)\n",
    "    trial.set_user_attr('under_pred_ratio', under_pred)\n",
    "    trial.set_user_attr('iterations_used', model.best_iteration)\n",
    "    \n",
    "    return combined_score\n",
    "\n",
    "print(\"✅ LightGBM objective ready\")"
   ]
  },
  {
   "cell_type": "markdown",
   "id": "f094a7d3",
   "metadata": {},
   "source": [
    "## 🚀 Run CatBoost Optimization"
   ]
  },
  {
   "cell_type": "code",
   "execution_count": 14,
   "id": "fbe43390",
   "metadata": {},
   "outputs": [
    {
     "name": "stderr",
     "output_type": "stream",
     "text": [
      "[I 2025-10-27 15:23:35,427] A new study created in memory with name: catboost_quantile_0.2\n"
     ]
    },
    {
     "name": "stderr",
     "output_type": "stream",
     "text": [
      "[I 2025-10-27 15:23:35,427] A new study created in memory with name: catboost_quantile_0.2\n"
     ]
    },
    {
     "name": "stdout",
     "output_type": "stream",
     "text": [
      "============================================================\n",
      "Starting CatBoost Optuna Optimization\n",
      "============================================================\n",
      "Trials: 300\n",
      "Timeout: 2 hours\n",
      "Started: 2025-10-27 15:23:35\n",
      "============================================================\n"
     ]
    },
    {
     "data": {
      "application/vnd.jupyter.widget-view+json": {
       "model_id": "ec679a8e325e415497c3c8944bfe2001",
       "version_major": 2,
       "version_minor": 0
      },
      "text/plain": [
       "  0%|          | 0/300 [00:00<?, ?it/s]"
      ]
     },
     "metadata": {},
     "output_type": "display_data"
    },
    {
     "name": "stderr",
     "output_type": "stream",
     "text": [
      "[I 2025-10-27 15:23:35,427] A new study created in memory with name: catboost_quantile_0.2\n"
     ]
    },
    {
     "name": "stdout",
     "output_type": "stream",
     "text": [
      "============================================================\n",
      "Starting CatBoost Optuna Optimization\n",
      "============================================================\n",
      "Trials: 300\n",
      "Timeout: 2 hours\n",
      "Started: 2025-10-27 15:23:35\n",
      "============================================================\n"
     ]
    },
    {
     "data": {
      "application/vnd.jupyter.widget-view+json": {
       "model_id": "ec679a8e325e415497c3c8944bfe2001",
       "version_major": 2,
       "version_minor": 0
      },
      "text/plain": [
       "  0%|          | 0/300 [00:00<?, ?it/s]"
      ]
     },
     "metadata": {},
     "output_type": "display_data"
    },
    {
     "name": "stdout",
     "output_type": "stream",
     "text": [
      "[W 2025-10-27 15:23:35,483] Trial 0 failed with parameters: {'iterations': 3622, 'depth': 12, 'learning_rate': 0.044803926826840625, 'l2_leaf_reg': 6.387926357773329, 'random_strength': 0.8900466011060912, 'bagging_temperature': 0.15599452033620265, 'border_count': 45, 'min_data_in_leaf': 87, 'bootstrap_type': 'Bernoulli', 'subsample': 0.9849549260809971} because of the following error: CatBoostError('catboost/private/libs/options/bootstrap_options.cpp:44: Error: bagging temperature available for bayesian bootstrap only').\n",
      "Traceback (most recent call last):\n",
      "  File \"/opt/anaconda3/envs/siv/lib/python3.12/site-packages/optuna/study/_optimize.py\", line 201, in _run_trial\n",
      "    value_or_values = func(trial)\n",
      "                      ^^^^^^^^^^^\n",
      "  File \"/var/folders/y_/z30sh81d7sg8pkp71bmjxf0h0000gn/T/ipykernel_69871/3414011014.py\", line 32, in objective_catboost\n",
      "    model.fit(\n",
      "  File \"/opt/anaconda3/envs/siv/lib/python3.12/site-packages/catboost/core.py\", line 5873, in fit\n",
      "    return self._fit(X, y, cat_features, text_features, embedding_features, None, graph, sample_weight, None, None, None, None, baseline,\n",
      "           ^^^^^^^^^^^^^^^^^^^^^^^^^^^^^^^^^^^^^^^^^^^^^^^^^^^^^^^^^^^^^^^^^^^^^^^^^^^^^^^^^^^^^^^^^^^^^^^^^^^^^^^^^^^^^^^^^^^^^^^^^^^^^^\n",
      "  File \"/opt/anaconda3/envs/siv/lib/python3.12/site-packages/catboost/core.py\", line 2395, in _fit\n",
      "    train_params = self._prepare_train_params(\n",
      "                   ^^^^^^^^^^^^^^^^^^^^^^^^^^^\n",
      "  File \"/opt/anaconda3/envs/siv/lib/python3.12/site-packages/catboost/core.py\", line 2321, in _prepare_train_params\n",
      "    _check_train_params(params)\n",
      "  File \"_catboost.pyx\", line 6601, in _catboost._check_train_params\n",
      "  File \"_catboost.pyx\", line 6623, in _catboost._check_train_params\n",
      "_catboost.CatBoostError: catboost/private/libs/options/bootstrap_options.cpp:44: Error: bagging temperature available for bayesian bootstrap only\n",
      "[W 2025-10-27 15:23:35,486] Trial 0 failed with value None.\n"
     ]
    },
    {
     "name": "stderr",
     "output_type": "stream",
     "text": [
      "[I 2025-10-27 15:23:35,427] A new study created in memory with name: catboost_quantile_0.2\n"
     ]
    },
    {
     "name": "stdout",
     "output_type": "stream",
     "text": [
      "============================================================\n",
      "Starting CatBoost Optuna Optimization\n",
      "============================================================\n",
      "Trials: 300\n",
      "Timeout: 2 hours\n",
      "Started: 2025-10-27 15:23:35\n",
      "============================================================\n"
     ]
    },
    {
     "data": {
      "application/vnd.jupyter.widget-view+json": {
       "model_id": "ec679a8e325e415497c3c8944bfe2001",
       "version_major": 2,
       "version_minor": 0
      },
      "text/plain": [
       "  0%|          | 0/300 [00:00<?, ?it/s]"
      ]
     },
     "metadata": {},
     "output_type": "display_data"
    },
    {
     "name": "stdout",
     "output_type": "stream",
     "text": [
      "[W 2025-10-27 15:23:35,483] Trial 0 failed with parameters: {'iterations': 3622, 'depth': 12, 'learning_rate': 0.044803926826840625, 'l2_leaf_reg': 6.387926357773329, 'random_strength': 0.8900466011060912, 'bagging_temperature': 0.15599452033620265, 'border_count': 45, 'min_data_in_leaf': 87, 'bootstrap_type': 'Bernoulli', 'subsample': 0.9849549260809971} because of the following error: CatBoostError('catboost/private/libs/options/bootstrap_options.cpp:44: Error: bagging temperature available for bayesian bootstrap only').\n",
      "Traceback (most recent call last):\n",
      "  File \"/opt/anaconda3/envs/siv/lib/python3.12/site-packages/optuna/study/_optimize.py\", line 201, in _run_trial\n",
      "    value_or_values = func(trial)\n",
      "                      ^^^^^^^^^^^\n",
      "  File \"/var/folders/y_/z30sh81d7sg8pkp71bmjxf0h0000gn/T/ipykernel_69871/3414011014.py\", line 32, in objective_catboost\n",
      "    model.fit(\n",
      "  File \"/opt/anaconda3/envs/siv/lib/python3.12/site-packages/catboost/core.py\", line 5873, in fit\n",
      "    return self._fit(X, y, cat_features, text_features, embedding_features, None, graph, sample_weight, None, None, None, None, baseline,\n",
      "           ^^^^^^^^^^^^^^^^^^^^^^^^^^^^^^^^^^^^^^^^^^^^^^^^^^^^^^^^^^^^^^^^^^^^^^^^^^^^^^^^^^^^^^^^^^^^^^^^^^^^^^^^^^^^^^^^^^^^^^^^^^^^^^\n",
      "  File \"/opt/anaconda3/envs/siv/lib/python3.12/site-packages/catboost/core.py\", line 2395, in _fit\n",
      "    train_params = self._prepare_train_params(\n",
      "                   ^^^^^^^^^^^^^^^^^^^^^^^^^^^\n",
      "  File \"/opt/anaconda3/envs/siv/lib/python3.12/site-packages/catboost/core.py\", line 2321, in _prepare_train_params\n",
      "    _check_train_params(params)\n",
      "  File \"_catboost.pyx\", line 6601, in _catboost._check_train_params\n",
      "  File \"_catboost.pyx\", line 6623, in _catboost._check_train_params\n",
      "_catboost.CatBoostError: catboost/private/libs/options/bootstrap_options.cpp:44: Error: bagging temperature available for bayesian bootstrap only\n",
      "[W 2025-10-27 15:23:35,486] Trial 0 failed with value None.\n"
     ]
    },
    {
     "ename": "CatBoostError",
     "evalue": "catboost/private/libs/options/bootstrap_options.cpp:44: Error: bagging temperature available for bayesian bootstrap only",
     "output_type": "error",
     "traceback": [
      "\u001b[0;31m---------------------------------------------------------------------------\u001b[0m",
      "\u001b[0;31mCatBoostError\u001b[0m                             Traceback (most recent call last)",
      "Cell \u001b[0;32mIn[14], line 17\u001b[0m\n\u001b[1;32m      9\u001b[0m study_catboost \u001b[38;5;241m=\u001b[39m optuna\u001b[38;5;241m.\u001b[39mcreate_study(\n\u001b[1;32m     10\u001b[0m     direction\u001b[38;5;241m=\u001b[39m\u001b[38;5;124m'\u001b[39m\u001b[38;5;124mminimize\u001b[39m\u001b[38;5;124m'\u001b[39m,\n\u001b[1;32m     11\u001b[0m     study_name\u001b[38;5;241m=\u001b[39m\u001b[38;5;124m'\u001b[39m\u001b[38;5;124mcatboost_quantile_0.2\u001b[39m\u001b[38;5;124m'\u001b[39m,\n\u001b[1;32m     12\u001b[0m     sampler\u001b[38;5;241m=\u001b[39moptuna\u001b[38;5;241m.\u001b[39msamplers\u001b[38;5;241m.\u001b[39mTPESampler(seed\u001b[38;5;241m=\u001b[39mRANDOM_STATE)\n\u001b[1;32m     13\u001b[0m )\n\u001b[1;32m     15\u001b[0m start_time \u001b[38;5;241m=\u001b[39m time\u001b[38;5;241m.\u001b[39mtime()\n\u001b[0;32m---> 17\u001b[0m \u001b[43mstudy_catboost\u001b[49m\u001b[38;5;241;43m.\u001b[39;49m\u001b[43moptimize\u001b[49m\u001b[43m(\u001b[49m\n\u001b[1;32m     18\u001b[0m \u001b[43m    \u001b[49m\u001b[43mobjective_catboost\u001b[49m\u001b[43m,\u001b[49m\n\u001b[1;32m     19\u001b[0m \u001b[43m    \u001b[49m\u001b[43mn_trials\u001b[49m\u001b[38;5;241;43m=\u001b[39;49m\u001b[38;5;241;43m300\u001b[39;49m\u001b[43m,\u001b[49m\n\u001b[1;32m     20\u001b[0m \u001b[43m    \u001b[49m\u001b[43mtimeout\u001b[49m\u001b[38;5;241;43m=\u001b[39;49m\u001b[38;5;241;43m7200\u001b[39;49m\u001b[43m,\u001b[49m\u001b[43m  \u001b[49m\u001b[38;5;66;43;03m# 2 hours\u001b[39;49;00m\n\u001b[1;32m     21\u001b[0m \u001b[43m    \u001b[49m\u001b[43mshow_progress_bar\u001b[49m\u001b[38;5;241;43m=\u001b[39;49m\u001b[38;5;28;43;01mTrue\u001b[39;49;00m\u001b[43m,\u001b[49m\n\u001b[1;32m     22\u001b[0m \u001b[43m    \u001b[49m\u001b[43mcallbacks\u001b[49m\u001b[38;5;241;43m=\u001b[39;49m\u001b[43m[\u001b[49m\n\u001b[1;32m     23\u001b[0m \u001b[43m        \u001b[49m\u001b[38;5;28;43;01mlambda\u001b[39;49;00m\u001b[43m \u001b[49m\u001b[43mstudy\u001b[49m\u001b[43m,\u001b[49m\u001b[43m \u001b[49m\u001b[43mtrial\u001b[49m\u001b[43m:\u001b[49m\u001b[43m \u001b[49m\u001b[38;5;28;43mprint\u001b[39;49m\u001b[43m(\u001b[49m\n\u001b[1;32m     24\u001b[0m \u001b[43m            \u001b[49m\u001b[38;5;124;43mf\u001b[39;49m\u001b[38;5;124;43m\"\u001b[39;49m\u001b[38;5;124;43mTrial \u001b[39;49m\u001b[38;5;132;43;01m{\u001b[39;49;00m\u001b[43mtrial\u001b[49m\u001b[38;5;241;43m.\u001b[39;49m\u001b[43mnumber\u001b[49m\u001b[38;5;132;43;01m}\u001b[39;49;00m\u001b[38;5;124;43m: QL=\u001b[39;49m\u001b[38;5;132;43;01m{\u001b[39;49;00m\u001b[43mtrial\u001b[49m\u001b[38;5;241;43m.\u001b[39;49m\u001b[43muser_attrs\u001b[49m\u001b[38;5;241;43m.\u001b[39;49m\u001b[43mget\u001b[49m\u001b[43m(\u001b[49m\u001b[38;5;124;43m'\u001b[39;49m\u001b[38;5;124;43mquantile_loss\u001b[39;49m\u001b[38;5;124;43m'\u001b[39;49m\u001b[43m,\u001b[49m\u001b[38;5;250;43m \u001b[39;49m\u001b[38;5;241;43m0\u001b[39;49m\u001b[43m)\u001b[49m\u001b[38;5;132;43;01m:\u001b[39;49;00m\u001b[38;5;124;43m.2f\u001b[39;49m\u001b[38;5;132;43;01m}\u001b[39;49;00m\u001b[38;5;124;43m, \u001b[39;49m\u001b[38;5;124;43m\"\u001b[39;49m\n\u001b[1;32m     25\u001b[0m \u001b[43m            \u001b[49m\u001b[38;5;124;43mf\u001b[39;49m\u001b[38;5;124;43m\"\u001b[39;49m\u001b[38;5;124;43mUnder-pred=\u001b[39;49m\u001b[38;5;132;43;01m{\u001b[39;49;00m\u001b[43mtrial\u001b[49m\u001b[38;5;241;43m.\u001b[39;49m\u001b[43muser_attrs\u001b[49m\u001b[38;5;241;43m.\u001b[39;49m\u001b[43mget\u001b[49m\u001b[43m(\u001b[49m\u001b[38;5;124;43m'\u001b[39;49m\u001b[38;5;124;43munder_pred_ratio\u001b[39;49m\u001b[38;5;124;43m'\u001b[39;49m\u001b[43m,\u001b[49m\u001b[38;5;250;43m \u001b[39;49m\u001b[38;5;241;43m0\u001b[39;49m\u001b[43m)\u001b[49m\u001b[38;5;132;43;01m:\u001b[39;49;00m\u001b[38;5;124;43m.1%\u001b[39;49m\u001b[38;5;132;43;01m}\u001b[39;49;00m\u001b[38;5;124;43m, \u001b[39;49m\u001b[38;5;124;43m\"\u001b[39;49m\n\u001b[1;32m     26\u001b[0m \u001b[43m            \u001b[49m\u001b[38;5;124;43mf\u001b[39;49m\u001b[38;5;124;43m\"\u001b[39;49m\u001b[38;5;124;43mScore=\u001b[39;49m\u001b[38;5;132;43;01m{\u001b[39;49;00m\u001b[43mtrial\u001b[49m\u001b[38;5;241;43m.\u001b[39;49m\u001b[43mvalue\u001b[49m\u001b[38;5;132;43;01m:\u001b[39;49;00m\u001b[38;5;124;43m.2f\u001b[39;49m\u001b[38;5;132;43;01m}\u001b[39;49;00m\u001b[38;5;124;43m\"\u001b[39;49m\n\u001b[1;32m     27\u001b[0m \u001b[43m        \u001b[49m\u001b[43m)\u001b[49m\n\u001b[1;32m     28\u001b[0m \u001b[43m    \u001b[49m\u001b[43m]\u001b[49m\n\u001b[1;32m     29\u001b[0m \u001b[43m)\u001b[49m\n\u001b[1;32m     31\u001b[0m elapsed \u001b[38;5;241m=\u001b[39m time\u001b[38;5;241m.\u001b[39mtime() \u001b[38;5;241m-\u001b[39m start_time\n\u001b[1;32m     33\u001b[0m \u001b[38;5;28mprint\u001b[39m(\u001b[38;5;124m\"\u001b[39m\u001b[38;5;130;01m\\n\u001b[39;00m\u001b[38;5;124m\"\u001b[39m \u001b[38;5;241m+\u001b[39m \u001b[38;5;124m\"\u001b[39m\u001b[38;5;124m=\u001b[39m\u001b[38;5;124m\"\u001b[39m\u001b[38;5;241m*\u001b[39m\u001b[38;5;241m60\u001b[39m)\n",
      "File \u001b[0;32m/opt/anaconda3/envs/siv/lib/python3.12/site-packages/optuna/study/study.py:490\u001b[0m, in \u001b[0;36mStudy.optimize\u001b[0;34m(self, func, n_trials, timeout, n_jobs, catch, callbacks, gc_after_trial, show_progress_bar)\u001b[0m\n\u001b[1;32m    388\u001b[0m \u001b[38;5;28;01mdef\u001b[39;00m \u001b[38;5;21moptimize\u001b[39m(\n\u001b[1;32m    389\u001b[0m     \u001b[38;5;28mself\u001b[39m,\n\u001b[1;32m    390\u001b[0m     func: ObjectiveFuncType,\n\u001b[0;32m   (...)\u001b[0m\n\u001b[1;32m    397\u001b[0m     show_progress_bar: \u001b[38;5;28mbool\u001b[39m \u001b[38;5;241m=\u001b[39m \u001b[38;5;28;01mFalse\u001b[39;00m,\n\u001b[1;32m    398\u001b[0m ) \u001b[38;5;241m-\u001b[39m\u001b[38;5;241m>\u001b[39m \u001b[38;5;28;01mNone\u001b[39;00m:\n\u001b[1;32m    399\u001b[0m \u001b[38;5;250m    \u001b[39m\u001b[38;5;124;03m\"\"\"Optimize an objective function.\u001b[39;00m\n\u001b[1;32m    400\u001b[0m \n\u001b[1;32m    401\u001b[0m \u001b[38;5;124;03m    Optimization is done by choosing a suitable set of hyperparameter values from a given\u001b[39;00m\n\u001b[0;32m   (...)\u001b[0m\n\u001b[1;32m    488\u001b[0m \u001b[38;5;124;03m            If nested invocation of this method occurs.\u001b[39;00m\n\u001b[1;32m    489\u001b[0m \u001b[38;5;124;03m    \"\"\"\u001b[39;00m\n\u001b[0;32m--> 490\u001b[0m     \u001b[43m_optimize\u001b[49m\u001b[43m(\u001b[49m\n\u001b[1;32m    491\u001b[0m \u001b[43m        \u001b[49m\u001b[43mstudy\u001b[49m\u001b[38;5;241;43m=\u001b[39;49m\u001b[38;5;28;43mself\u001b[39;49m\u001b[43m,\u001b[49m\n\u001b[1;32m    492\u001b[0m \u001b[43m        \u001b[49m\u001b[43mfunc\u001b[49m\u001b[38;5;241;43m=\u001b[39;49m\u001b[43mfunc\u001b[49m\u001b[43m,\u001b[49m\n\u001b[1;32m    493\u001b[0m \u001b[43m        \u001b[49m\u001b[43mn_trials\u001b[49m\u001b[38;5;241;43m=\u001b[39;49m\u001b[43mn_trials\u001b[49m\u001b[43m,\u001b[49m\n\u001b[1;32m    494\u001b[0m \u001b[43m        \u001b[49m\u001b[43mtimeout\u001b[49m\u001b[38;5;241;43m=\u001b[39;49m\u001b[43mtimeout\u001b[49m\u001b[43m,\u001b[49m\n\u001b[1;32m    495\u001b[0m \u001b[43m        \u001b[49m\u001b[43mn_jobs\u001b[49m\u001b[38;5;241;43m=\u001b[39;49m\u001b[43mn_jobs\u001b[49m\u001b[43m,\u001b[49m\n\u001b[1;32m    496\u001b[0m \u001b[43m        \u001b[49m\u001b[43mcatch\u001b[49m\u001b[38;5;241;43m=\u001b[39;49m\u001b[38;5;28;43mtuple\u001b[39;49m\u001b[43m(\u001b[49m\u001b[43mcatch\u001b[49m\u001b[43m)\u001b[49m\u001b[43m \u001b[49m\u001b[38;5;28;43;01mif\u001b[39;49;00m\u001b[43m \u001b[49m\u001b[38;5;28;43misinstance\u001b[39;49m\u001b[43m(\u001b[49m\u001b[43mcatch\u001b[49m\u001b[43m,\u001b[49m\u001b[43m \u001b[49m\u001b[43mIterable\u001b[49m\u001b[43m)\u001b[49m\u001b[43m \u001b[49m\u001b[38;5;28;43;01melse\u001b[39;49;00m\u001b[43m \u001b[49m\u001b[43m(\u001b[49m\u001b[43mcatch\u001b[49m\u001b[43m,\u001b[49m\u001b[43m)\u001b[49m\u001b[43m,\u001b[49m\n\u001b[1;32m    497\u001b[0m \u001b[43m        \u001b[49m\u001b[43mcallbacks\u001b[49m\u001b[38;5;241;43m=\u001b[39;49m\u001b[43mcallbacks\u001b[49m\u001b[43m,\u001b[49m\n\u001b[1;32m    498\u001b[0m \u001b[43m        \u001b[49m\u001b[43mgc_after_trial\u001b[49m\u001b[38;5;241;43m=\u001b[39;49m\u001b[43mgc_after_trial\u001b[49m\u001b[43m,\u001b[49m\n\u001b[1;32m    499\u001b[0m \u001b[43m        \u001b[49m\u001b[43mshow_progress_bar\u001b[49m\u001b[38;5;241;43m=\u001b[39;49m\u001b[43mshow_progress_bar\u001b[49m\u001b[43m,\u001b[49m\n\u001b[1;32m    500\u001b[0m \u001b[43m    \u001b[49m\u001b[43m)\u001b[49m\n",
      "File \u001b[0;32m/opt/anaconda3/envs/siv/lib/python3.12/site-packages/optuna/study/_optimize.py:63\u001b[0m, in \u001b[0;36m_optimize\u001b[0;34m(study, func, n_trials, timeout, n_jobs, catch, callbacks, gc_after_trial, show_progress_bar)\u001b[0m\n\u001b[1;32m     61\u001b[0m \u001b[38;5;28;01mtry\u001b[39;00m:\n\u001b[1;32m     62\u001b[0m     \u001b[38;5;28;01mif\u001b[39;00m n_jobs \u001b[38;5;241m==\u001b[39m \u001b[38;5;241m1\u001b[39m:\n\u001b[0;32m---> 63\u001b[0m         \u001b[43m_optimize_sequential\u001b[49m\u001b[43m(\u001b[49m\n\u001b[1;32m     64\u001b[0m \u001b[43m            \u001b[49m\u001b[43mstudy\u001b[49m\u001b[43m,\u001b[49m\n\u001b[1;32m     65\u001b[0m \u001b[43m            \u001b[49m\u001b[43mfunc\u001b[49m\u001b[43m,\u001b[49m\n\u001b[1;32m     66\u001b[0m \u001b[43m            \u001b[49m\u001b[43mn_trials\u001b[49m\u001b[43m,\u001b[49m\n\u001b[1;32m     67\u001b[0m \u001b[43m            \u001b[49m\u001b[43mtimeout\u001b[49m\u001b[43m,\u001b[49m\n\u001b[1;32m     68\u001b[0m \u001b[43m            \u001b[49m\u001b[43mcatch\u001b[49m\u001b[43m,\u001b[49m\n\u001b[1;32m     69\u001b[0m \u001b[43m            \u001b[49m\u001b[43mcallbacks\u001b[49m\u001b[43m,\u001b[49m\n\u001b[1;32m     70\u001b[0m \u001b[43m            \u001b[49m\u001b[43mgc_after_trial\u001b[49m\u001b[43m,\u001b[49m\n\u001b[1;32m     71\u001b[0m \u001b[43m            \u001b[49m\u001b[43mreseed_sampler_rng\u001b[49m\u001b[38;5;241;43m=\u001b[39;49m\u001b[38;5;28;43;01mFalse\u001b[39;49;00m\u001b[43m,\u001b[49m\n\u001b[1;32m     72\u001b[0m \u001b[43m            \u001b[49m\u001b[43mtime_start\u001b[49m\u001b[38;5;241;43m=\u001b[39;49m\u001b[38;5;28;43;01mNone\u001b[39;49;00m\u001b[43m,\u001b[49m\n\u001b[1;32m     73\u001b[0m \u001b[43m            \u001b[49m\u001b[43mprogress_bar\u001b[49m\u001b[38;5;241;43m=\u001b[39;49m\u001b[43mprogress_bar\u001b[49m\u001b[43m,\u001b[49m\n\u001b[1;32m     74\u001b[0m \u001b[43m        \u001b[49m\u001b[43m)\u001b[49m\n\u001b[1;32m     75\u001b[0m     \u001b[38;5;28;01melse\u001b[39;00m:\n\u001b[1;32m     76\u001b[0m         \u001b[38;5;28;01mif\u001b[39;00m n_jobs \u001b[38;5;241m==\u001b[39m \u001b[38;5;241m-\u001b[39m\u001b[38;5;241m1\u001b[39m:\n",
      "File \u001b[0;32m/opt/anaconda3/envs/siv/lib/python3.12/site-packages/optuna/study/_optimize.py:160\u001b[0m, in \u001b[0;36m_optimize_sequential\u001b[0;34m(study, func, n_trials, timeout, catch, callbacks, gc_after_trial, reseed_sampler_rng, time_start, progress_bar)\u001b[0m\n\u001b[1;32m    157\u001b[0m         \u001b[38;5;28;01mbreak\u001b[39;00m\n\u001b[1;32m    159\u001b[0m \u001b[38;5;28;01mtry\u001b[39;00m:\n\u001b[0;32m--> 160\u001b[0m     frozen_trial_id \u001b[38;5;241m=\u001b[39m \u001b[43m_run_trial\u001b[49m\u001b[43m(\u001b[49m\u001b[43mstudy\u001b[49m\u001b[43m,\u001b[49m\u001b[43m \u001b[49m\u001b[43mfunc\u001b[49m\u001b[43m,\u001b[49m\u001b[43m \u001b[49m\u001b[43mcatch\u001b[49m\u001b[43m)\u001b[49m\n\u001b[1;32m    161\u001b[0m \u001b[38;5;28;01mfinally\u001b[39;00m:\n\u001b[1;32m    162\u001b[0m     \u001b[38;5;66;03m# The following line mitigates memory problems that can be occurred in some\u001b[39;00m\n\u001b[1;32m    163\u001b[0m     \u001b[38;5;66;03m# environments (e.g., services that use computing containers such as GitHub Actions).\u001b[39;00m\n\u001b[1;32m    164\u001b[0m     \u001b[38;5;66;03m# Please refer to the following PR for further details:\u001b[39;00m\n\u001b[1;32m    165\u001b[0m     \u001b[38;5;66;03m# https://github.com/optuna/optuna/pull/325.\u001b[39;00m\n\u001b[1;32m    166\u001b[0m     \u001b[38;5;28;01mif\u001b[39;00m gc_after_trial:\n",
      "File \u001b[0;32m/opt/anaconda3/envs/siv/lib/python3.12/site-packages/optuna/study/_optimize.py:258\u001b[0m, in \u001b[0;36m_run_trial\u001b[0;34m(study, func, catch)\u001b[0m\n\u001b[1;32m    251\u001b[0m         \u001b[38;5;28;01massert\u001b[39;00m \u001b[38;5;28;01mFalse\u001b[39;00m, \u001b[38;5;124m\"\u001b[39m\u001b[38;5;124mShould not reach.\u001b[39m\u001b[38;5;124m\"\u001b[39m\n\u001b[1;32m    253\u001b[0m \u001b[38;5;28;01mif\u001b[39;00m (\n\u001b[1;32m    254\u001b[0m     updated_state \u001b[38;5;241m==\u001b[39m TrialState\u001b[38;5;241m.\u001b[39mFAIL\n\u001b[1;32m    255\u001b[0m     \u001b[38;5;129;01mand\u001b[39;00m func_err \u001b[38;5;129;01mis\u001b[39;00m \u001b[38;5;129;01mnot\u001b[39;00m \u001b[38;5;28;01mNone\u001b[39;00m\n\u001b[1;32m    256\u001b[0m     \u001b[38;5;129;01mand\u001b[39;00m \u001b[38;5;129;01mnot\u001b[39;00m \u001b[38;5;28misinstance\u001b[39m(func_err, catch)\n\u001b[1;32m    257\u001b[0m ):\n\u001b[0;32m--> 258\u001b[0m     \u001b[38;5;28;01mraise\u001b[39;00m func_err\n\u001b[1;32m    259\u001b[0m \u001b[38;5;28;01mreturn\u001b[39;00m trial\u001b[38;5;241m.\u001b[39m_trial_id\n",
      "File \u001b[0;32m/opt/anaconda3/envs/siv/lib/python3.12/site-packages/optuna/study/_optimize.py:201\u001b[0m, in \u001b[0;36m_run_trial\u001b[0;34m(study, func, catch)\u001b[0m\n\u001b[1;32m    199\u001b[0m \u001b[38;5;28;01mwith\u001b[39;00m get_heartbeat_thread(trial\u001b[38;5;241m.\u001b[39m_trial_id, study\u001b[38;5;241m.\u001b[39m_storage):\n\u001b[1;32m    200\u001b[0m     \u001b[38;5;28;01mtry\u001b[39;00m:\n\u001b[0;32m--> 201\u001b[0m         value_or_values \u001b[38;5;241m=\u001b[39m \u001b[43mfunc\u001b[49m\u001b[43m(\u001b[49m\u001b[43mtrial\u001b[49m\u001b[43m)\u001b[49m\n\u001b[1;32m    202\u001b[0m     \u001b[38;5;28;01mexcept\u001b[39;00m exceptions\u001b[38;5;241m.\u001b[39mTrialPruned \u001b[38;5;28;01mas\u001b[39;00m e:\n\u001b[1;32m    203\u001b[0m         \u001b[38;5;66;03m# TODO(mamu): Handle multi-objective cases.\u001b[39;00m\n\u001b[1;32m    204\u001b[0m         state \u001b[38;5;241m=\u001b[39m TrialState\u001b[38;5;241m.\u001b[39mPRUNED\n",
      "Cell \u001b[0;32mIn[12], line 32\u001b[0m, in \u001b[0;36mobjective_catboost\u001b[0;34m(trial)\u001b[0m\n\u001b[1;32m     30\u001b[0m \u001b[38;5;66;03m# Train model\u001b[39;00m\n\u001b[1;32m     31\u001b[0m model \u001b[38;5;241m=\u001b[39m CatBoostRegressor(\u001b[38;5;241m*\u001b[39m\u001b[38;5;241m*\u001b[39mparams)\n\u001b[0;32m---> 32\u001b[0m \u001b[43mmodel\u001b[49m\u001b[38;5;241;43m.\u001b[39;49m\u001b[43mfit\u001b[49m\u001b[43m(\u001b[49m\n\u001b[1;32m     33\u001b[0m \u001b[43m    \u001b[49m\u001b[43mX_train\u001b[49m\u001b[43m,\u001b[49m\u001b[43m \u001b[49m\u001b[43my_train\u001b[49m\u001b[43m,\u001b[49m\n\u001b[1;32m     34\u001b[0m \u001b[43m    \u001b[49m\u001b[43meval_set\u001b[49m\u001b[38;5;241;43m=\u001b[39;49m\u001b[43m(\u001b[49m\u001b[43mX_val\u001b[49m\u001b[43m,\u001b[49m\u001b[43m \u001b[49m\u001b[43my_val\u001b[49m\u001b[43m)\u001b[49m\u001b[43m,\u001b[49m\n\u001b[1;32m     35\u001b[0m \u001b[43m    \u001b[49m\u001b[43muse_best_model\u001b[49m\u001b[38;5;241;43m=\u001b[39;49m\u001b[38;5;28;43;01mTrue\u001b[39;49;00m\u001b[43m,\u001b[49m\n\u001b[1;32m     36\u001b[0m \u001b[43m    \u001b[49m\u001b[43mplot\u001b[49m\u001b[38;5;241;43m=\u001b[39;49m\u001b[38;5;28;43;01mFalse\u001b[39;49;00m\n\u001b[1;32m     37\u001b[0m \u001b[43m\u001b[49m\u001b[43m)\u001b[49m\n\u001b[1;32m     39\u001b[0m \u001b[38;5;66;03m# Predictions\u001b[39;00m\n\u001b[1;32m     40\u001b[0m pred_val \u001b[38;5;241m=\u001b[39m model\u001b[38;5;241m.\u001b[39mpredict(X_val)\n",
      "File \u001b[0;32m/opt/anaconda3/envs/siv/lib/python3.12/site-packages/catboost/core.py:5873\u001b[0m, in \u001b[0;36mCatBoostRegressor.fit\u001b[0;34m(self, X, y, cat_features, text_features, embedding_features, graph, sample_weight, baseline, use_best_model, eval_set, verbose, logging_level, plot, plot_file, column_description, verbose_eval, metric_period, silent, early_stopping_rounds, save_snapshot, snapshot_file, snapshot_interval, init_model, callbacks, log_cout, log_cerr)\u001b[0m\n\u001b[1;32m   5871\u001b[0m \u001b[38;5;28;01mif\u001b[39;00m \u001b[38;5;124m'\u001b[39m\u001b[38;5;124mloss_function\u001b[39m\u001b[38;5;124m'\u001b[39m \u001b[38;5;129;01min\u001b[39;00m params:\n\u001b[1;32m   5872\u001b[0m     CatBoostRegressor\u001b[38;5;241m.\u001b[39m_check_is_compatible_loss(params[\u001b[38;5;124m'\u001b[39m\u001b[38;5;124mloss_function\u001b[39m\u001b[38;5;124m'\u001b[39m])\n\u001b[0;32m-> 5873\u001b[0m \u001b[38;5;28;01mreturn\u001b[39;00m \u001b[38;5;28;43mself\u001b[39;49m\u001b[38;5;241;43m.\u001b[39;49m\u001b[43m_fit\u001b[49m\u001b[43m(\u001b[49m\u001b[43mX\u001b[49m\u001b[43m,\u001b[49m\u001b[43m \u001b[49m\u001b[43my\u001b[49m\u001b[43m,\u001b[49m\u001b[43m \u001b[49m\u001b[43mcat_features\u001b[49m\u001b[43m,\u001b[49m\u001b[43m \u001b[49m\u001b[43mtext_features\u001b[49m\u001b[43m,\u001b[49m\u001b[43m \u001b[49m\u001b[43membedding_features\u001b[49m\u001b[43m,\u001b[49m\u001b[43m \u001b[49m\u001b[38;5;28;43;01mNone\u001b[39;49;00m\u001b[43m,\u001b[49m\u001b[43m \u001b[49m\u001b[43mgraph\u001b[49m\u001b[43m,\u001b[49m\u001b[43m \u001b[49m\u001b[43msample_weight\u001b[49m\u001b[43m,\u001b[49m\u001b[43m \u001b[49m\u001b[38;5;28;43;01mNone\u001b[39;49;00m\u001b[43m,\u001b[49m\u001b[43m \u001b[49m\u001b[38;5;28;43;01mNone\u001b[39;49;00m\u001b[43m,\u001b[49m\u001b[43m \u001b[49m\u001b[38;5;28;43;01mNone\u001b[39;49;00m\u001b[43m,\u001b[49m\u001b[43m \u001b[49m\u001b[38;5;28;43;01mNone\u001b[39;49;00m\u001b[43m,\u001b[49m\u001b[43m \u001b[49m\u001b[43mbaseline\u001b[49m\u001b[43m,\u001b[49m\n\u001b[1;32m   5874\u001b[0m \u001b[43m                 \u001b[49m\u001b[43muse_best_model\u001b[49m\u001b[43m,\u001b[49m\u001b[43m \u001b[49m\u001b[43meval_set\u001b[49m\u001b[43m,\u001b[49m\u001b[43m \u001b[49m\u001b[43mverbose\u001b[49m\u001b[43m,\u001b[49m\u001b[43m \u001b[49m\u001b[43mlogging_level\u001b[49m\u001b[43m,\u001b[49m\u001b[43m \u001b[49m\u001b[43mplot\u001b[49m\u001b[43m,\u001b[49m\u001b[43m \u001b[49m\u001b[43mplot_file\u001b[49m\u001b[43m,\u001b[49m\u001b[43m \u001b[49m\u001b[43mcolumn_description\u001b[49m\u001b[43m,\u001b[49m\n\u001b[1;32m   5875\u001b[0m \u001b[43m                 \u001b[49m\u001b[43mverbose_eval\u001b[49m\u001b[43m,\u001b[49m\u001b[43m \u001b[49m\u001b[43mmetric_period\u001b[49m\u001b[43m,\u001b[49m\u001b[43m \u001b[49m\u001b[43msilent\u001b[49m\u001b[43m,\u001b[49m\u001b[43m \u001b[49m\u001b[43mearly_stopping_rounds\u001b[49m\u001b[43m,\u001b[49m\n\u001b[1;32m   5876\u001b[0m \u001b[43m                 \u001b[49m\u001b[43msave_snapshot\u001b[49m\u001b[43m,\u001b[49m\u001b[43m \u001b[49m\u001b[43msnapshot_file\u001b[49m\u001b[43m,\u001b[49m\u001b[43m \u001b[49m\u001b[43msnapshot_interval\u001b[49m\u001b[43m,\u001b[49m\u001b[43m \u001b[49m\u001b[43minit_model\u001b[49m\u001b[43m,\u001b[49m\u001b[43m \u001b[49m\u001b[43mcallbacks\u001b[49m\u001b[43m,\u001b[49m\u001b[43m \u001b[49m\u001b[43mlog_cout\u001b[49m\u001b[43m,\u001b[49m\u001b[43m \u001b[49m\u001b[43mlog_cerr\u001b[49m\u001b[43m)\u001b[49m\n",
      "File \u001b[0;32m/opt/anaconda3/envs/siv/lib/python3.12/site-packages/catboost/core.py:2395\u001b[0m, in \u001b[0;36mCatBoost._fit\u001b[0;34m(self, X, y, cat_features, text_features, embedding_features, pairs, graph, sample_weight, group_id, group_weight, subgroup_id, pairs_weight, baseline, use_best_model, eval_set, verbose, logging_level, plot, plot_file, column_description, verbose_eval, metric_period, silent, early_stopping_rounds, save_snapshot, snapshot_file, snapshot_interval, init_model, callbacks, log_cout, log_cerr)\u001b[0m\n\u001b[1;32m   2392\u001b[0m \u001b[38;5;28;01mif\u001b[39;00m y \u001b[38;5;129;01mis\u001b[39;00m \u001b[38;5;28;01mNone\u001b[39;00m \u001b[38;5;129;01mand\u001b[39;00m \u001b[38;5;129;01mnot\u001b[39;00m \u001b[38;5;28misinstance\u001b[39m(X, PATH_TYPES \u001b[38;5;241m+\u001b[39m (Pool,)):\n\u001b[1;32m   2393\u001b[0m     \u001b[38;5;28;01mraise\u001b[39;00m CatBoostError(\u001b[38;5;124m\"\u001b[39m\u001b[38;5;124my may be None only when X is an instance of catboost.Pool or string\u001b[39m\u001b[38;5;124m\"\u001b[39m)\n\u001b[0;32m-> 2395\u001b[0m train_params \u001b[38;5;241m=\u001b[39m \u001b[38;5;28;43mself\u001b[39;49m\u001b[38;5;241;43m.\u001b[39;49m\u001b[43m_prepare_train_params\u001b[49m\u001b[43m(\u001b[49m\n\u001b[1;32m   2396\u001b[0m \u001b[43m    \u001b[49m\u001b[43mX\u001b[49m\u001b[38;5;241;43m=\u001b[39;49m\u001b[43mX\u001b[49m\u001b[43m,\u001b[49m\u001b[43m \u001b[49m\u001b[43my\u001b[49m\u001b[38;5;241;43m=\u001b[39;49m\u001b[43my\u001b[49m\u001b[43m,\u001b[49m\u001b[43m \u001b[49m\u001b[43mcat_features\u001b[49m\u001b[38;5;241;43m=\u001b[39;49m\u001b[43mcat_features\u001b[49m\u001b[43m,\u001b[49m\u001b[43m \u001b[49m\u001b[43mtext_features\u001b[49m\u001b[38;5;241;43m=\u001b[39;49m\u001b[43mtext_features\u001b[49m\u001b[43m,\u001b[49m\u001b[43m \u001b[49m\u001b[43membedding_features\u001b[49m\u001b[38;5;241;43m=\u001b[39;49m\u001b[43membedding_features\u001b[49m\u001b[43m,\u001b[49m\n\u001b[1;32m   2397\u001b[0m \u001b[43m    \u001b[49m\u001b[43mpairs\u001b[49m\u001b[38;5;241;43m=\u001b[39;49m\u001b[43mpairs\u001b[49m\u001b[43m,\u001b[49m\u001b[43m \u001b[49m\u001b[43mgraph\u001b[49m\u001b[38;5;241;43m=\u001b[39;49m\u001b[43mgraph\u001b[49m\u001b[43m,\u001b[49m\u001b[43m \u001b[49m\u001b[43msample_weight\u001b[49m\u001b[38;5;241;43m=\u001b[39;49m\u001b[43msample_weight\u001b[49m\u001b[43m,\u001b[49m\u001b[43m \u001b[49m\u001b[43mgroup_id\u001b[49m\u001b[38;5;241;43m=\u001b[39;49m\u001b[43mgroup_id\u001b[49m\u001b[43m,\u001b[49m\u001b[43m \u001b[49m\u001b[43mgroup_weight\u001b[49m\u001b[38;5;241;43m=\u001b[39;49m\u001b[43mgroup_weight\u001b[49m\u001b[43m,\u001b[49m\n\u001b[1;32m   2398\u001b[0m \u001b[43m    \u001b[49m\u001b[43msubgroup_id\u001b[49m\u001b[38;5;241;43m=\u001b[39;49m\u001b[43msubgroup_id\u001b[49m\u001b[43m,\u001b[49m\u001b[43m \u001b[49m\u001b[43mpairs_weight\u001b[49m\u001b[38;5;241;43m=\u001b[39;49m\u001b[43mpairs_weight\u001b[49m\u001b[43m,\u001b[49m\u001b[43m \u001b[49m\u001b[43mbaseline\u001b[49m\u001b[38;5;241;43m=\u001b[39;49m\u001b[43mbaseline\u001b[49m\u001b[43m,\u001b[49m\u001b[43m \u001b[49m\u001b[43muse_best_model\u001b[49m\u001b[38;5;241;43m=\u001b[39;49m\u001b[43muse_best_model\u001b[49m\u001b[43m,\u001b[49m\n\u001b[1;32m   2399\u001b[0m \u001b[43m    \u001b[49m\u001b[43meval_set\u001b[49m\u001b[38;5;241;43m=\u001b[39;49m\u001b[43meval_set\u001b[49m\u001b[43m,\u001b[49m\u001b[43m \u001b[49m\u001b[43mverbose\u001b[49m\u001b[38;5;241;43m=\u001b[39;49m\u001b[43mverbose\u001b[49m\u001b[43m,\u001b[49m\u001b[43m \u001b[49m\u001b[43mlogging_level\u001b[49m\u001b[38;5;241;43m=\u001b[39;49m\u001b[43mlogging_level\u001b[49m\u001b[43m,\u001b[49m\u001b[43m \u001b[49m\u001b[43mplot\u001b[49m\u001b[38;5;241;43m=\u001b[39;49m\u001b[43mplot\u001b[49m\u001b[43m,\u001b[49m\u001b[43m \u001b[49m\u001b[43mplot_file\u001b[49m\u001b[38;5;241;43m=\u001b[39;49m\u001b[43mplot_file\u001b[49m\u001b[43m,\u001b[49m\n\u001b[1;32m   2400\u001b[0m \u001b[43m    \u001b[49m\u001b[43mcolumn_description\u001b[49m\u001b[38;5;241;43m=\u001b[39;49m\u001b[43mcolumn_description\u001b[49m\u001b[43m,\u001b[49m\u001b[43m \u001b[49m\u001b[43mverbose_eval\u001b[49m\u001b[38;5;241;43m=\u001b[39;49m\u001b[43mverbose_eval\u001b[49m\u001b[43m,\u001b[49m\u001b[43m \u001b[49m\u001b[43mmetric_period\u001b[49m\u001b[38;5;241;43m=\u001b[39;49m\u001b[43mmetric_period\u001b[49m\u001b[43m,\u001b[49m\n\u001b[1;32m   2401\u001b[0m \u001b[43m    \u001b[49m\u001b[43msilent\u001b[49m\u001b[38;5;241;43m=\u001b[39;49m\u001b[43msilent\u001b[49m\u001b[43m,\u001b[49m\u001b[43m \u001b[49m\u001b[43mearly_stopping_rounds\u001b[49m\u001b[38;5;241;43m=\u001b[39;49m\u001b[43mearly_stopping_rounds\u001b[49m\u001b[43m,\u001b[49m\u001b[43m \u001b[49m\u001b[43msave_snapshot\u001b[49m\u001b[38;5;241;43m=\u001b[39;49m\u001b[43msave_snapshot\u001b[49m\u001b[43m,\u001b[49m\n\u001b[1;32m   2402\u001b[0m \u001b[43m    \u001b[49m\u001b[43msnapshot_file\u001b[49m\u001b[38;5;241;43m=\u001b[39;49m\u001b[43msnapshot_file\u001b[49m\u001b[43m,\u001b[49m\u001b[43m \u001b[49m\u001b[43msnapshot_interval\u001b[49m\u001b[38;5;241;43m=\u001b[39;49m\u001b[43msnapshot_interval\u001b[49m\u001b[43m,\u001b[49m\u001b[43m \u001b[49m\u001b[43minit_model\u001b[49m\u001b[38;5;241;43m=\u001b[39;49m\u001b[43minit_model\u001b[49m\u001b[43m,\u001b[49m\n\u001b[1;32m   2403\u001b[0m \u001b[43m    \u001b[49m\u001b[43mcallbacks\u001b[49m\u001b[38;5;241;43m=\u001b[39;49m\u001b[43mcallbacks\u001b[49m\n\u001b[1;32m   2404\u001b[0m \u001b[43m\u001b[49m\u001b[43m)\u001b[49m\n\u001b[1;32m   2405\u001b[0m params \u001b[38;5;241m=\u001b[39m train_params[\u001b[38;5;124m\"\u001b[39m\u001b[38;5;124mparams\u001b[39m\u001b[38;5;124m\"\u001b[39m]\n\u001b[1;32m   2406\u001b[0m train_pool \u001b[38;5;241m=\u001b[39m train_params[\u001b[38;5;124m\"\u001b[39m\u001b[38;5;124mtrain_pool\u001b[39m\u001b[38;5;124m\"\u001b[39m]\n",
      "File \u001b[0;32m/opt/anaconda3/envs/siv/lib/python3.12/site-packages/catboost/core.py:2321\u001b[0m, in \u001b[0;36mCatBoost._prepare_train_params\u001b[0;34m(self, X, y, cat_features, text_features, embedding_features, pairs, graph, sample_weight, group_id, group_weight, subgroup_id, pairs_weight, baseline, use_best_model, eval_set, verbose, logging_level, plot, plot_file, column_description, verbose_eval, metric_period, silent, early_stopping_rounds, save_snapshot, snapshot_file, snapshot_interval, init_model, callbacks)\u001b[0m\n\u001b[1;32m   2319\u001b[0m _check_param_types(params)\n\u001b[1;32m   2320\u001b[0m params \u001b[38;5;241m=\u001b[39m _params_type_cast(params)\n\u001b[0;32m-> 2321\u001b[0m \u001b[43m_check_train_params\u001b[49m\u001b[43m(\u001b[49m\u001b[43mparams\u001b[49m\u001b[43m)\u001b[49m\n\u001b[1;32m   2323\u001b[0m \u001b[38;5;28;01mif\u001b[39;00m params\u001b[38;5;241m.\u001b[39mget(\u001b[38;5;124m'\u001b[39m\u001b[38;5;124meval_fraction\u001b[39m\u001b[38;5;124m'\u001b[39m, \u001b[38;5;241m0.0\u001b[39m) \u001b[38;5;241m!=\u001b[39m \u001b[38;5;241m0.0\u001b[39m:\n\u001b[1;32m   2324\u001b[0m     \u001b[38;5;28;01mif\u001b[39;00m eval_set \u001b[38;5;129;01mis\u001b[39;00m \u001b[38;5;129;01mnot\u001b[39;00m \u001b[38;5;28;01mNone\u001b[39;00m:\n",
      "File \u001b[0;32m_catboost.pyx:6601\u001b[0m, in \u001b[0;36m_catboost._check_train_params\u001b[0;34m()\u001b[0m\n",
      "File \u001b[0;32m_catboost.pyx:6623\u001b[0m, in \u001b[0;36m_catboost._check_train_params\u001b[0;34m()\u001b[0m\n",
      "\u001b[0;31mCatBoostError\u001b[0m: catboost/private/libs/options/bootstrap_options.cpp:44: Error: bagging temperature available for bayesian bootstrap only"
     ]
    }
   ],
   "source": [
    "print(\"=\"*60)\n",
    "print(\"Starting CatBoost Optuna Optimization\")\n",
    "print(\"=\"*60)\n",
    "print(f\"Trials: 300\")\n",
    "print(f\"Timeout: 2 hours\")\n",
    "print(f\"Started: {datetime.now().strftime('%Y-%m-%d %H:%M:%S')}\")\n",
    "print(\"=\"*60)\n",
    "\n",
    "study_catboost = optuna.create_study(\n",
    "    direction='minimize',\n",
    "    study_name='catboost_quantile_0.2',\n",
    "    sampler=optuna.samplers.TPESampler(seed=RANDOM_STATE)\n",
    ")\n",
    "\n",
    "start_time = time.time()\n",
    "\n",
    "study_catboost.optimize(\n",
    "    objective_catboost,\n",
    "    n_trials=300,\n",
    "    timeout=7200,  # 2 hours\n",
    "    show_progress_bar=True,\n",
    "    callbacks=[\n",
    "        lambda study, trial: print(\n",
    "            f\"Trial {trial.number}: QL={trial.user_attrs.get('quantile_loss', 0):.2f}, \"\n",
    "            f\"Under-pred={trial.user_attrs.get('under_pred_ratio', 0):.1%}, \"\n",
    "            f\"Score={trial.value:.2f}\"\n",
    "        )\n",
    "    ]\n",
    ")\n",
    "\n",
    "elapsed = time.time() - start_time\n",
    "\n",
    "print(\"\\n\" + \"=\"*60)\n",
    "print(f\"✅ CatBoost Optimization Complete!\")\n",
    "print(f\"Time elapsed: {elapsed/60:.1f} minutes\")\n",
    "print(f\"Total trials: {len(study_catboost.trials)}\")\n",
    "print(\"=\"*60)"
   ]
  },
  {
   "cell_type": "code",
   "execution_count": null,
   "id": "b5780cca",
   "metadata": {},
   "outputs": [],
   "source": [
    "# Best CatBoost parameters\n",
    "print(\"\\n🏆 Best CatBoost Trial:\")\n",
    "print(f\"Combined Score: {study_catboost.best_value:.2f}\")\n",
    "print(f\"Quantile Loss: {study_catboost.best_trial.user_attrs['quantile_loss']:.2f}\")\n",
    "print(f\"Under-pred Ratio: {study_catboost.best_trial.user_attrs['under_pred_ratio']:.1%}\")\n",
    "print(f\"Iterations Used: {study_catboost.best_trial.user_attrs['iterations_used']}\")\n",
    "print(f\"\\nBest Parameters:\")\n",
    "for key, value in study_catboost.best_params.items():\n",
    "    print(f\"  {key}: {value}\")"
   ]
  },
  {
   "cell_type": "markdown",
   "id": "ddf461bb",
   "metadata": {},
   "source": [
    "## 🚀 Run LightGBM Optimization"
   ]
  },
  {
   "cell_type": "code",
   "execution_count": null,
   "id": "3c0f975c",
   "metadata": {},
   "outputs": [],
   "source": [
    "print(\"=\"*60)\n",
    "print(\"Starting LightGBM Optuna Optimization\")\n",
    "print(\"=\"*60)\n",
    "print(f\"Trials: 300\")\n",
    "print(f\"Timeout: 2 hours\")\n",
    "print(f\"Started: {datetime.now().strftime('%Y-%m-%d %H:%M:%S')}\")\n",
    "print(\"=\"*60)\n",
    "\n",
    "study_lightgbm = optuna.create_study(\n",
    "    direction='minimize',\n",
    "    study_name='lightgbm_quantile_0.2',\n",
    "    sampler=optuna.samplers.TPESampler(seed=RANDOM_STATE)\n",
    ")\n",
    "\n",
    "start_time = time.time()\n",
    "\n",
    "study_lightgbm.optimize(\n",
    "    objective_lightgbm,\n",
    "    n_trials=300,\n",
    "    timeout=7200,\n",
    "    show_progress_bar=True,\n",
    "    callbacks=[\n",
    "        lambda study, trial: print(\n",
    "            f\"Trial {trial.number}: QL={trial.user_attrs.get('quantile_loss', 0):.2f}, \"\n",
    "            f\"Under-pred={trial.user_attrs.get('under_pred_ratio', 0):.1%}, \"\n",
    "            f\"Score={trial.value:.2f}\"\n",
    "        )\n",
    "    ]\n",
    ")\n",
    "\n",
    "elapsed = time.time() - start_time\n",
    "\n",
    "print(\"\\n\" + \"=\"*60)\n",
    "print(f\"✅ LightGBM Optimization Complete!\")\n",
    "print(f\"Time elapsed: {elapsed/60:.1f} minutes\")\n",
    "print(f\"Total trials: {len(study_lightgbm.trials)}\")\n",
    "print(\"=\"*60)"
   ]
  },
  {
   "cell_type": "code",
   "execution_count": null,
   "id": "5e870cb2",
   "metadata": {},
   "outputs": [],
   "source": [
    "# Best LightGBM parameters\n",
    "print(\"\\n🏆 Best LightGBM Trial:\")\n",
    "print(f\"Combined Score: {study_lightgbm.best_value:.2f}\")\n",
    "print(f\"Quantile Loss: {study_lightgbm.best_trial.user_attrs['quantile_loss']:.2f}\")\n",
    "print(f\"Under-pred Ratio: {study_lightgbm.best_trial.user_attrs['under_pred_ratio']:.1%}\")\n",
    "print(f\"Iterations Used: {study_lightgbm.best_trial.user_attrs['iterations_used']}\")\n",
    "print(f\"\\nBest Parameters:\")\n",
    "for key, value in study_lightgbm.best_params.items():\n",
    "    print(f\"  {key}: {value}\")"
   ]
  },
  {
   "cell_type": "markdown",
   "id": "b258551d",
   "metadata": {},
   "source": [
    "## 📊 Visualization: Optimization History"
   ]
  },
  {
   "cell_type": "code",
   "execution_count": null,
   "id": "008dc5b9",
   "metadata": {},
   "outputs": [],
   "source": [
    "# CatBoost optimization history\n",
    "fig = plot_optimization_history(study_catboost)\n",
    "fig.update_layout(title='CatBoost Optimization History')\n",
    "fig.show()"
   ]
  },
  {
   "cell_type": "code",
   "execution_count": null,
   "id": "bee1119a",
   "metadata": {},
   "outputs": [],
   "source": [
    "# LightGBM optimization history\n",
    "fig = plot_optimization_history(study_lightgbm)\n",
    "fig.update_layout(title='LightGBM Optimization History')\n",
    "fig.show()"
   ]
  },
  {
   "cell_type": "code",
   "execution_count": null,
   "id": "05882cdf",
   "metadata": {},
   "outputs": [],
   "source": [
    "# Parameter importances\n",
    "fig = plot_param_importances(study_catboost)\n",
    "fig.update_layout(title='CatBoost Parameter Importances')\n",
    "fig.show()"
   ]
  },
  {
   "cell_type": "code",
   "execution_count": null,
   "id": "0a27e3df",
   "metadata": {},
   "outputs": [],
   "source": [
    "fig = plot_param_importances(study_lightgbm)\n",
    "fig.update_layout(title='LightGBM Parameter Importances')\n",
    "fig.show()"
   ]
  },
  {
   "cell_type": "markdown",
   "id": "ca4d4364",
   "metadata": {},
   "source": [
    "## 🤖 Train Final Models with Best Parameters"
   ]
  },
  {
   "cell_type": "code",
   "execution_count": null,
   "id": "a990db2b",
   "metadata": {},
   "outputs": [],
   "source": [
    "# Train final CatBoost with best params\n",
    "print(\"Training final CatBoost model...\")\n",
    "\n",
    "best_params_cat = study_catboost.best_params.copy()\n",
    "best_params_cat['loss_function'] = 'Quantile:alpha=0.2'\n",
    "best_params_cat['random_state'] = RANDOM_STATE\n",
    "best_params_cat['verbose'] = 200\n",
    "\n",
    "final_catboost = CatBoostRegressor(**best_params_cat)\n",
    "final_catboost.fit(\n",
    "    X_train, y_train,\n",
    "    eval_set=(X_val, y_val),\n",
    "    use_best_model=True,\n",
    "    plot=False\n",
    ")\n",
    "\n",
    "print(\"✅ CatBoost training complete\")"
   ]
  },
  {
   "cell_type": "code",
   "execution_count": null,
   "id": "8ef9aa11",
   "metadata": {},
   "outputs": [],
   "source": [
    "# Train final LightGBM with best params\n",
    "print(\"Training final LightGBM model...\")\n",
    "\n",
    "best_params_lgb = study_lightgbm.best_params.copy()\n",
    "best_params_lgb['objective'] = 'quantile'\n",
    "best_params_lgb['alpha'] = 0.2\n",
    "best_params_lgb['metric'] = 'quantile'\n",
    "best_params_lgb['random_state'] = RANDOM_STATE\n",
    "best_params_lgb['verbose'] = -1\n",
    "\n",
    "lgb_train_final = lgb.Dataset(X_train, y_train)\n",
    "lgb_val_final = lgb.Dataset(X_val, y_val, reference=lgb_train_final)\n",
    "\n",
    "final_lightgbm = lgb.train(\n",
    "    best_params_lgb,\n",
    "    lgb_train_final,\n",
    "    num_boost_round=8000,\n",
    "    valid_sets=[lgb_train_final, lgb_val_final],\n",
    "    callbacks=[\n",
    "        lgb.early_stopping(stopping_rounds=200),\n",
    "        lgb.log_evaluation(period=200)\n",
    "    ]\n",
    ")\n",
    "\n",
    "print(\"✅ LightGBM training complete\")"
   ]
  },
  {
   "cell_type": "markdown",
   "id": "5bd9019f",
   "metadata": {},
   "source": [
    "## 📊 Evaluate Final Models"
   ]
  },
  {
   "cell_type": "code",
   "execution_count": null,
   "id": "07cfaee3",
   "metadata": {},
   "outputs": [],
   "source": [
    "# Predictions\n",
    "cat_pred_val = final_catboost.predict(X_val)\n",
    "lgb_pred_val = final_lightgbm.predict(X_val, num_iteration=final_lightgbm.best_iteration)\n",
    "\n",
    "# Metrics\n",
    "cat_ql = quantile_loss(y_val, cat_pred_val, 0.2)\n",
    "cat_under = under_prediction_ratio(y_val, cat_pred_val)\n",
    "\n",
    "lgb_ql = quantile_loss(y_val, lgb_pred_val, 0.2)\n",
    "lgb_under = under_prediction_ratio(y_val, lgb_pred_val)\n",
    "\n",
    "print(\"\\n\" + \"=\"*60)\n",
    "print(\"FINAL MODEL PERFORMANCE\")\n",
    "print(\"=\"*60)\n",
    "print(f\"\\nCatBoost:\")\n",
    "print(f\"  Quantile Loss: {cat_ql:.2f}\")\n",
    "print(f\"  Under-pred Ratio: {cat_under:.1%} (target: 80%)\")\n",
    "print(f\"  Zero predictions: {(cat_pred_val == 0).mean():.1%}\")\n",
    "\n",
    "print(f\"\\nLightGBM:\")\n",
    "print(f\"  Quantile Loss: {lgb_ql:.2f}\")\n",
    "print(f\"  Under-pred Ratio: {lgb_under:.1%} (target: 80%)\")\n",
    "print(f\"  Zero predictions: {(lgb_pred_val == 0).mean():.1%}\")\n",
    "print(\"=\"*60)"
   ]
  },
  {
   "cell_type": "markdown",
   "id": "1a2aa608",
   "metadata": {},
   "source": [
    "## 🔀 Test Multiple Ensemble Strategies"
   ]
  },
  {
   "cell_type": "code",
   "execution_count": null,
   "id": "4d50a9f4",
   "metadata": {},
   "outputs": [],
   "source": [
    "# Test different ensemble weights and shrink factors\n",
    "ensemble_results = []\n",
    "\n",
    "weights = [(0.5, 0.5), (0.6, 0.4), (0.4, 0.6), (0.7, 0.3), (0.3, 0.7)]\n",
    "shrink_factors = [1.0, 0.98, 0.95, 0.93, 0.90, 0.88, 0.85]\n",
    "\n",
    "print(\"Testing ensemble combinations...\\n\")\n",
    "\n",
    "for w_cat, w_lgb in weights:\n",
    "    for shrink in shrink_factors:\n",
    "        ensemble_pred = (w_cat * cat_pred_val + w_lgb * lgb_pred_val) * shrink\n",
    "        ql = quantile_loss(y_val, ensemble_pred, 0.2)\n",
    "        under = under_prediction_ratio(y_val, ensemble_pred)\n",
    "        \n",
    "        ensemble_results.append({\n",
    "            'w_cat': w_cat,\n",
    "            'w_lgb': w_lgb,\n",
    "            'shrink': shrink,\n",
    "            'ql': ql,\n",
    "            'under_pred': under,\n",
    "            'distance_from_80': abs(under - 0.80)\n",
    "        })\n",
    "\n",
    "results_df = pd.DataFrame(ensemble_results).sort_values('ql')\n",
    "\n",
    "print(\"Top 10 Ensemble Configurations:\")\n",
    "print(results_df.head(10).to_string(index=False))\n",
    "\n",
    "# Best by QL\n",
    "best_ql = results_df.iloc[0]\n",
    "print(f\"\\n🏆 Best by Quantile Loss:\")\n",
    "print(f\"  Weights: {best_ql['w_cat']:.1f}/{best_ql['w_lgb']:.1f}\")\n",
    "print(f\"  Shrink: {best_ql['shrink']}\")\n",
    "print(f\"  QL: {best_ql['ql']:.2f}\")\n",
    "print(f\"  Under-pred: {best_ql['under_pred']:.1%}\")\n",
    "\n",
    "# Best closest to 80% under-pred\n",
    "best_under = results_df.sort_values('distance_from_80').iloc[0]\n",
    "print(f\"\\n🎯 Best Under-prediction Ratio (closest to 80%):\")\n",
    "print(f\"  Weights: {best_under['w_cat']:.1f}/{best_under['w_lgb']:.1f}\")\n",
    "print(f\"  Shrink: {best_under['shrink']}\")\n",
    "print(f\"  QL: {best_under['ql']:.2f}\")\n",
    "print(f\"  Under-pred: {best_under['under_pred']:.1%}\")"
   ]
  },
  {
   "cell_type": "markdown",
   "id": "584fb736",
   "metadata": {},
   "source": [
    "## 🎯 Generate Predictions for Submission"
   ]
  },
  {
   "cell_type": "code",
   "execution_count": null,
   "id": "2b1ee45c",
   "metadata": {},
   "outputs": [],
   "source": [
    "# Load prediction features\n",
    "X_pred = df[feature_cols].copy()\n",
    "X_pred = X_pred.fillna(0)\n",
    "\n",
    "print(f\"Prediction matrix: {X_pred.shape}\")"
   ]
  },
  {
   "cell_type": "code",
   "execution_count": null,
   "id": "09edb34d",
   "metadata": {},
   "outputs": [],
   "source": [
    "# Generate predictions\n",
    "print(\"Generating predictions...\")\n",
    "\n",
    "cat_predictions = final_catboost.predict(X_pred)\n",
    "lgb_predictions = final_lightgbm.predict(X_pred, num_iteration=final_lightgbm.best_iteration)\n",
    "\n",
    "# Apply best ensemble configuration\n",
    "best_ensemble = (best_ql['w_cat'] * cat_predictions + best_ql['w_lgb'] * lgb_predictions) * best_ql['shrink']\n",
    "best_under_ensemble = (best_under['w_cat'] * cat_predictions + best_under['w_lgb'] * lgb_predictions) * best_under['shrink']\n",
    "\n",
    "# Ensure non-negative\n",
    "cat_predictions = np.maximum(0, cat_predictions)\n",
    "lgb_predictions = np.maximum(0, lgb_predictions)\n",
    "best_ensemble = np.maximum(0, best_ensemble)\n",
    "best_under_ensemble = np.maximum(0, best_under_ensemble)\n",
    "\n",
    "print(\"✅ Predictions generated\")"
   ]
  },
  {
   "cell_type": "markdown",
   "id": "4fdeb01a",
   "metadata": {},
   "source": [
    "## 💾 Create Submission Files"
   ]
  },
  {
   "cell_type": "code",
   "execution_count": null,
   "id": "965baa83",
   "metadata": {},
   "outputs": [],
   "source": [
    "# Load sample submission\n",
    "sample_submission = pd.read_csv('data/sample_submission.csv')\n",
    "\n",
    "# Best QL submission\n",
    "submission_best_ql = pd.DataFrame({\n",
    "    'ID': sample_submission['ID'],\n",
    "    'predicted_weight': best_ensemble\n",
    "})\n",
    "submission_best_ql.to_csv('submission_optuna_best_ql.csv', index=False)\n",
    "print(\"✅ Saved: submission_optuna_best_ql.csv\")\n",
    "print(f\"   Config: {best_ql['w_cat']:.1f}/{best_ql['w_lgb']:.1f}, shrink={best_ql['shrink']}\")\n",
    "\n",
    "# Best under-prediction submission\n",
    "submission_best_under = pd.DataFrame({\n",
    "    'ID': sample_submission['ID'],\n",
    "    'predicted_weight': best_under_ensemble\n",
    "})\n",
    "submission_best_under.to_csv('submission_optuna_best_under.csv', index=False)\n",
    "print(\"✅ Saved: submission_optuna_best_under.csv\")\n",
    "print(f\"   Config: {best_under['w_cat']:.1f}/{best_under['w_lgb']:.1f}, shrink={best_under['shrink']}\")\n",
    "\n",
    "# CatBoost only\n",
    "submission_cat = pd.DataFrame({\n",
    "    'ID': sample_submission['ID'],\n",
    "    'predicted_weight': cat_predictions\n",
    "})\n",
    "submission_cat.to_csv('submission_optuna_catboost.csv', index=False)\n",
    "print(\"✅ Saved: submission_optuna_catboost.csv\")\n",
    "\n",
    "# LightGBM only\n",
    "submission_lgb = pd.DataFrame({\n",
    "    'ID': sample_submission['ID'],\n",
    "    'predicted_weight': lgb_predictions\n",
    "})\n",
    "submission_lgb.to_csv('submission_optuna_lightgbm.csv', index=False)\n",
    "print(\"✅ Saved: submission_optuna_lightgbm.csv\")\n",
    "\n",
    "print(\"\\n\" + \"=\"*60)\n",
    "print(\"🎉 All Optuna submissions ready!\")\n",
    "print(\"=\"*60)\n",
    "print(\"\\nRecommended order to upload:\")\n",
    "print(\"1. submission_optuna_best_under.csv (best under-pred ratio)\")\n",
    "print(\"2. submission_optuna_best_ql.csv (best validation QL)\")\n",
    "print(\"3. submission_optuna_catboost.csv (single model)\")\n",
    "print(\"4. submission_optuna_lightgbm.csv (single model)\")"
   ]
  },
  {
   "cell_type": "markdown",
   "id": "d7716528",
   "metadata": {},
   "source": [
    "## 📊 Save Study Results"
   ]
  },
  {
   "cell_type": "code",
   "execution_count": null,
   "id": "1bacbcd6",
   "metadata": {},
   "outputs": [],
   "source": [
    "# Save Optuna study results for future reference\n",
    "import pickle\n",
    "\n",
    "with open('optuna_study_catboost.pkl', 'wb') as f:\n",
    "    pickle.dump(study_catboost, f)\n",
    "\n",
    "with open('optuna_study_lightgbm.pkl', 'wb') as f:\n",
    "    pickle.dump(study_lightgbm, f)\n",
    "\n",
    "print(\"✅ Optuna studies saved\")\n",
    "\n",
    "# Save best parameters as JSON\n",
    "import json\n",
    "\n",
    "optuna_results = {\n",
    "    'catboost': {\n",
    "        'best_params': study_catboost.best_params,\n",
    "        'best_value': study_catboost.best_value,\n",
    "        'quantile_loss': study_catboost.best_trial.user_attrs['quantile_loss'],\n",
    "        'under_pred_ratio': study_catboost.best_trial.user_attrs['under_pred_ratio']\n",
    "    },\n",
    "    'lightgbm': {\n",
    "        'best_params': study_lightgbm.best_params,\n",
    "        'best_value': study_lightgbm.best_value,\n",
    "        'quantile_loss': study_lightgbm.best_trial.user_attrs['quantile_loss'],\n",
    "        'under_pred_ratio': study_lightgbm.best_trial.user_attrs['under_pred_ratio']\n",
    "    },\n",
    "    'ensemble': {\n",
    "        'best_ql_config': {\n",
    "            'w_cat': best_ql['w_cat'],\n",
    "            'w_lgb': best_ql['w_lgb'],\n",
    "            'shrink': best_ql['shrink'],\n",
    "            'ql': best_ql['ql'],\n",
    "            'under_pred': best_ql['under_pred']\n",
    "        },\n",
    "        'best_under_config': {\n",
    "            'w_cat': best_under['w_cat'],\n",
    "            'w_lgb': best_under['w_lgb'],\n",
    "            'shrink': best_under['shrink'],\n",
    "            'ql': best_under['ql'],\n",
    "            'under_pred': best_under['under_pred']\n",
    "        }\n",
    "    }\n",
    "}\n",
    "\n",
    "with open('optuna_results.json', 'w') as f:\n",
    "    json.dump(optuna_results, f, indent=2)\n",
    "\n",
    "print(\"✅ Results saved to optuna_results.json\")"
   ]
  },
  {
   "cell_type": "markdown",
   "id": "b5128f78",
   "metadata": {},
   "source": [
    "## 📝 Summary\n",
    "\n",
    "### ✅ Completed\n",
    "1. Generated 40,000 training samples (vs 30,000 in V1)\n",
    "2. Ran 300 Optuna trials for CatBoost\n",
    "3. Ran 300 Optuna trials for LightGBM\n",
    "4. Tested 35 ensemble configurations\n",
    "5. Generated 4 submission files\n",
    "\n",
    "### 🎯 Expected Results\n",
    "- **Baseline**: FE V1 Conservative - Score 9,800 (Rank 103/187)\n",
    "- **Target**: 10-20% improvement → Score ~7,800-8,800 (Rank ~70-90)\n",
    "\n",
    "### 📤 Upload Strategy\n",
    "1. **First**: `submission_optuna_best_under.csv` - Optimized for 80% under-prediction\n",
    "2. **Second**: `submission_optuna_best_ql.csv` - Best validation quantile loss\n",
    "3. **Monitor**: Compare scores and adjust strategy\n",
    "\n",
    "### 🚀 Next Steps if Needed\n",
    "1. **Cross-Validation**: 5-10 fold CV for more robust predictions\n",
    "2. **Material Clustering**: Group materials and train specialized models\n",
    "3. **Deep Learning**: Add Temporal Fusion Transformer to ensemble\n",
    "4. **Post-processing**: Material-specific shrink factors"
   ]
  }
 ],
 "metadata": {
  "kernelspec": {
   "display_name": "siv",
   "language": "python",
   "name": "python3"
  },
  "language_info": {
   "codemirror_mode": {
    "name": "ipython",
    "version": 3
   },
   "file_extension": ".py",
   "mimetype": "text/x-python",
   "name": "python",
   "nbconvert_exporter": "python",
   "pygments_lexer": "ipython3",
   "version": "3.12.7"
  }
 },
 "nbformat": 4,
 "nbformat_minor": 5
}

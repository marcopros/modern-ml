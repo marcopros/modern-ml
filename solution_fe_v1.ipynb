{
 "cells": [
  {
   "cell_type": "markdown",
   "id": "1fa3a0a4",
   "metadata": {},
   "source": [
    "# 🚀 Hydro Forecasting - Feature Engineering V1\n",
    "\n",
    "**Objective**: Improve Kaggle score using advanced feature engineering\n",
    "\n",
    "**Current baseline**: `solution_v5_ultra_conservative.ipynb` - Rank 123/187\n",
    "\n",
    "**Strategy**:\n",
    "1. Load pre-engineered feature matrix (136 features)\n",
    "2. Train CatBoost + LightGBM with quantile regression (α=0.2)\n",
    "3. Optuna hyperparameter optimization\n",
    "4. Conservative ensemble blending\n",
    "5. Generate submission\n",
    "\n",
    "**Expected improvement**: 15-25% better score → Target rank ~80-100"
   ]
  },
  {
   "cell_type": "markdown",
   "id": "83789db0",
   "metadata": {},
   "source": [
    "## 📦 Imports & Setup"
   ]
  },
  {
   "cell_type": "code",
   "execution_count": 1,
   "id": "95a7d230",
   "metadata": {},
   "outputs": [
    {
     "name": "stdout",
     "output_type": "stream",
     "text": [
      "✅ Imports complete\n"
     ]
    }
   ],
   "source": [
    "import warnings\n",
    "warnings.filterwarnings('ignore')\n",
    "\n",
    "import numpy as np\n",
    "import pandas as pd\n",
    "import matplotlib.pyplot as plt\n",
    "import seaborn as sns\n",
    "from pathlib import Path\n",
    "\n",
    "# Machine Learning\n",
    "from sklearn.model_selection import train_test_split, KFold\n",
    "from sklearn.metrics import mean_absolute_error, mean_squared_error\n",
    "import lightgbm as lgb\n",
    "from catboost import CatBoostRegressor, Pool\n",
    "import optuna\n",
    "\n",
    "# Styling\n",
    "sns.set_style('whitegrid')\n",
    "plt.rcParams['figure.figsize'] = (12, 6)\n",
    "\n",
    "# Random seed for reproducibility\n",
    "RANDOM_STATE = 42\n",
    "np.random.seed(RANDOM_STATE)\n",
    "\n",
    "print(\"✅ Imports complete\")"
   ]
  },
  {
   "cell_type": "markdown",
   "id": "0d30f6ca",
   "metadata": {},
   "source": [
    "## 📊 Load Pre-Engineered Features"
   ]
  },
  {
   "cell_type": "code",
   "execution_count": 27,
   "id": "829fbe52",
   "metadata": {},
   "outputs": [
    {
     "name": "stdout",
     "output_type": "stream",
     "text": [
      "Feature matrix shape: (30450, 136)\n",
      "\n",
      "Columns: ['ID', 'rm_id', 'forecast_start_date', 'forecast_end_date', 'horizon_days', 'horizon_weeks', 'forecast_end_month', 'forecast_end_quarter', 'net_weight', 'cumulative_net_weight', 'roll_sum_7d', 'roll_mean_7d', 'roll_std_7d', 'roll_p10_7d', 'roll_p20_7d', 'roll_p50_7d', 'delivery_freq_7d', 'roll_sum_14d', 'roll_mean_14d', 'roll_std_14d']... (136 total)\n",
      "\n",
      "Sample:\n"
     ]
    },
    {
     "data": {
      "application/vnd.microsoft.datawrangler.viewer.v0+json": {
       "columns": [
        {
         "name": "index",
         "rawType": "int64",
         "type": "integer"
        },
        {
         "name": "ID",
         "rawType": "int64",
         "type": "integer"
        },
        {
         "name": "rm_id",
         "rawType": "int64",
         "type": "integer"
        },
        {
         "name": "forecast_start_date",
         "rawType": "object",
         "type": "string"
        },
        {
         "name": "forecast_end_date",
         "rawType": "object",
         "type": "string"
        },
        {
         "name": "horizon_days",
         "rawType": "int64",
         "type": "integer"
        },
        {
         "name": "horizon_weeks",
         "rawType": "float64",
         "type": "float"
        },
        {
         "name": "forecast_end_month",
         "rawType": "int64",
         "type": "integer"
        },
        {
         "name": "forecast_end_quarter",
         "rawType": "int64",
         "type": "integer"
        },
        {
         "name": "net_weight",
         "rawType": "float64",
         "type": "float"
        },
        {
         "name": "cumulative_net_weight",
         "rawType": "float64",
         "type": "float"
        },
        {
         "name": "roll_sum_7d",
         "rawType": "float64",
         "type": "float"
        },
        {
         "name": "roll_mean_7d",
         "rawType": "float64",
         "type": "float"
        },
        {
         "name": "roll_std_7d",
         "rawType": "float64",
         "type": "float"
        },
        {
         "name": "roll_p10_7d",
         "rawType": "float64",
         "type": "float"
        },
        {
         "name": "roll_p20_7d",
         "rawType": "float64",
         "type": "float"
        },
        {
         "name": "roll_p50_7d",
         "rawType": "float64",
         "type": "float"
        },
        {
         "name": "delivery_freq_7d",
         "rawType": "float64",
         "type": "float"
        },
        {
         "name": "roll_sum_14d",
         "rawType": "float64",
         "type": "float"
        },
        {
         "name": "roll_mean_14d",
         "rawType": "float64",
         "type": "float"
        },
        {
         "name": "roll_std_14d",
         "rawType": "float64",
         "type": "float"
        },
        {
         "name": "roll_p10_14d",
         "rawType": "float64",
         "type": "float"
        },
        {
         "name": "roll_p20_14d",
         "rawType": "float64",
         "type": "float"
        },
        {
         "name": "roll_p50_14d",
         "rawType": "float64",
         "type": "float"
        },
        {
         "name": "delivery_freq_14d",
         "rawType": "float64",
         "type": "float"
        },
        {
         "name": "roll_sum_28d",
         "rawType": "float64",
         "type": "float"
        },
        {
         "name": "roll_mean_28d",
         "rawType": "float64",
         "type": "float"
        },
        {
         "name": "roll_std_28d",
         "rawType": "float64",
         "type": "float"
        },
        {
         "name": "roll_p10_28d",
         "rawType": "float64",
         "type": "float"
        },
        {
         "name": "roll_p20_28d",
         "rawType": "float64",
         "type": "float"
        },
        {
         "name": "roll_p50_28d",
         "rawType": "float64",
         "type": "float"
        },
        {
         "name": "delivery_freq_28d",
         "rawType": "float64",
         "type": "float"
        },
        {
         "name": "roll_sum_56d",
         "rawType": "float64",
         "type": "float"
        },
        {
         "name": "roll_mean_56d",
         "rawType": "float64",
         "type": "float"
        },
        {
         "name": "roll_std_56d",
         "rawType": "float64",
         "type": "float"
        },
        {
         "name": "roll_p10_56d",
         "rawType": "float64",
         "type": "float"
        },
        {
         "name": "roll_p20_56d",
         "rawType": "float64",
         "type": "float"
        },
        {
         "name": "roll_p50_56d",
         "rawType": "float64",
         "type": "float"
        },
        {
         "name": "delivery_freq_56d",
         "rawType": "float64",
         "type": "float"
        },
        {
         "name": "roll_sum_84d",
         "rawType": "float64",
         "type": "float"
        },
        {
         "name": "roll_mean_84d",
         "rawType": "float64",
         "type": "float"
        },
        {
         "name": "roll_std_84d",
         "rawType": "float64",
         "type": "float"
        },
        {
         "name": "roll_p10_84d",
         "rawType": "float64",
         "type": "float"
        },
        {
         "name": "roll_p20_84d",
         "rawType": "float64",
         "type": "float"
        },
        {
         "name": "roll_p50_84d",
         "rawType": "float64",
         "type": "float"
        },
        {
         "name": "delivery_freq_84d",
         "rawType": "float64",
         "type": "float"
        },
        {
         "name": "roll_sum_112d",
         "rawType": "float64",
         "type": "float"
        },
        {
         "name": "roll_mean_112d",
         "rawType": "float64",
         "type": "float"
        },
        {
         "name": "roll_std_112d",
         "rawType": "float64",
         "type": "float"
        },
        {
         "name": "roll_p10_112d",
         "rawType": "float64",
         "type": "float"
        },
        {
         "name": "roll_p20_112d",
         "rawType": "float64",
         "type": "float"
        },
        {
         "name": "roll_p50_112d",
         "rawType": "float64",
         "type": "float"
        },
        {
         "name": "delivery_freq_112d",
         "rawType": "float64",
         "type": "float"
        },
        {
         "name": "roll_sum_168d",
         "rawType": "float64",
         "type": "float"
        },
        {
         "name": "roll_mean_168d",
         "rawType": "float64",
         "type": "float"
        },
        {
         "name": "roll_std_168d",
         "rawType": "float64",
         "type": "float"
        },
        {
         "name": "roll_p10_168d",
         "rawType": "float64",
         "type": "float"
        },
        {
         "name": "roll_p20_168d",
         "rawType": "float64",
         "type": "float"
        },
        {
         "name": "roll_p50_168d",
         "rawType": "float64",
         "type": "float"
        },
        {
         "name": "delivery_freq_168d",
         "rawType": "float64",
         "type": "float"
        },
        {
         "name": "roll_sum_224d",
         "rawType": "float64",
         "type": "float"
        },
        {
         "name": "roll_mean_224d",
         "rawType": "float64",
         "type": "float"
        },
        {
         "name": "roll_std_224d",
         "rawType": "float64",
         "type": "float"
        },
        {
         "name": "roll_p10_224d",
         "rawType": "float64",
         "type": "float"
        },
        {
         "name": "roll_p20_224d",
         "rawType": "float64",
         "type": "float"
        },
        {
         "name": "roll_p50_224d",
         "rawType": "float64",
         "type": "float"
        },
        {
         "name": "delivery_freq_224d",
         "rawType": "float64",
         "type": "float"
        },
        {
         "name": "roll_cv_56d",
         "rawType": "float64",
         "type": "float"
        },
        {
         "name": "roll_skew_84d",
         "rawType": "float64",
         "type": "float"
        },
        {
         "name": "roll_kurt_84d",
         "rawType": "float64",
         "type": "float"
        },
        {
         "name": "ewm_mean_span7",
         "rawType": "float64",
         "type": "float"
        },
        {
         "name": "ewm_std_span7",
         "rawType": "float64",
         "type": "float"
        },
        {
         "name": "ewm_mean_span14",
         "rawType": "float64",
         "type": "float"
        },
        {
         "name": "ewm_std_span14",
         "rawType": "float64",
         "type": "float"
        },
        {
         "name": "ewm_mean_span30",
         "rawType": "float64",
         "type": "float"
        },
        {
         "name": "ewm_std_span30",
         "rawType": "float64",
         "type": "float"
        },
        {
         "name": "ewm_mean_span90",
         "rawType": "float64",
         "type": "float"
        },
        {
         "name": "ewm_std_span90",
         "rawType": "float64",
         "type": "float"
        },
        {
         "name": "trend_slope_30d",
         "rawType": "float64",
         "type": "float"
        },
        {
         "name": "trend_slope_60d",
         "rawType": "float64",
         "type": "float"
        },
        {
         "name": "trend_slope_90d",
         "rawType": "float64",
         "type": "float"
        },
        {
         "name": "trend_acceleration",
         "rawType": "float64",
         "type": "float"
        },
        {
         "name": "days_since_last_delivery",
         "rawType": "float64",
         "type": "float"
        },
        {
         "name": "zero_streak_length",
         "rawType": "float64",
         "type": "float"
        },
        {
         "name": "day_of_week",
         "rawType": "int64",
         "type": "integer"
        },
        {
         "name": "week_of_year",
         "rawType": "int64",
         "type": "integer"
        },
        {
         "name": "month",
         "rawType": "int64",
         "type": "integer"
        },
        {
         "name": "quarter",
         "rawType": "int64",
         "type": "integer"
        },
        {
         "name": "year",
         "rawType": "int64",
         "type": "integer"
        },
        {
         "name": "month_sin",
         "rawType": "float64",
         "type": "float"
        },
        {
         "name": "month_cos",
         "rawType": "float64",
         "type": "float"
        },
        {
         "name": "week_sin",
         "rawType": "float64",
         "type": "float"
        },
        {
         "name": "week_cos",
         "rawType": "float64",
         "type": "float"
        },
        {
         "name": "is_month_end",
         "rawType": "int64",
         "type": "integer"
        },
        {
         "name": "is_month_start",
         "rawType": "int64",
         "type": "integer"
        },
        {
         "name": "is_quarter_end",
         "rawType": "int64",
         "type": "integer"
        },
        {
         "name": "is_quarter_start",
         "rawType": "int64",
         "type": "integer"
        },
        {
         "name": "po_reliability_mean",
         "rawType": "float64",
         "type": "float"
        },
        {
         "name": "po_reliability_median",
         "rawType": "float64",
         "type": "float"
        },
        {
         "name": "po_reliability_std",
         "rawType": "float64",
         "type": "float"
        },
        {
         "name": "po_lead_time_mean",
         "rawType": "float64",
         "type": "float"
        },
        {
         "name": "po_lead_time_std",
         "rawType": "float64",
         "type": "float"
        },
        {
         "name": "po_weight_1_7",
         "rawType": "float64",
         "type": "float"
        },
        {
         "name": "po_count_1_7",
         "rawType": "float64",
         "type": "float"
        },
        {
         "name": "po_weight_8_14",
         "rawType": "float64",
         "type": "float"
        },
        {
         "name": "po_count_8_14",
         "rawType": "float64",
         "type": "float"
        },
        {
         "name": "po_weight_15_30",
         "rawType": "float64",
         "type": "float"
        },
        {
         "name": "po_count_15_30",
         "rawType": "float64",
         "type": "float"
        },
        {
         "name": "po_weight_31_60",
         "rawType": "float64",
         "type": "float"
        },
        {
         "name": "po_count_31_60",
         "rawType": "float64",
         "type": "float"
        },
        {
         "name": "po_weight_61_90",
         "rawType": "float64",
         "type": "float"
        },
        {
         "name": "po_count_61_90",
         "rawType": "float64",
         "type": "float"
        },
        {
         "name": "po_weight_91_120",
         "rawType": "float64",
         "type": "float"
        },
        {
         "name": "po_count_91_120",
         "rawType": "float64",
         "type": "float"
        },
        {
         "name": "po_weight_121_180",
         "rawType": "float64",
         "type": "float"
        },
        {
         "name": "po_count_121_180",
         "rawType": "float64",
         "type": "float"
        },
        {
         "name": "po_weight_181_365",
         "rawType": "float64",
         "type": "float"
        },
        {
         "name": "po_count_181_365",
         "rawType": "float64",
         "type": "float"
        },
        {
         "name": "po_weight_future_total",
         "rawType": "float64",
         "type": "float"
        },
        {
         "name": "po_future_orders",
         "rawType": "float64",
         "type": "float"
        },
        {
         "name": "po_future_weight_mean",
         "rawType": "float64",
         "type": "float"
        },
        {
         "name": "raw_material_alloy_mode",
         "rawType": "object",
         "type": "string"
        },
        {
         "name": "raw_material_format_mode",
         "rawType": "float64",
         "type": "float"
        },
        {
         "name": "stock_location_mode",
         "rawType": "object",
         "type": "string"
        },
        {
         "name": "raw_material_alloy_nunique",
         "rawType": "int64",
         "type": "integer"
        },
        {
         "name": "raw_material_format_nunique",
         "rawType": "int64",
         "type": "integer"
        },
        {
         "name": "supplier_unique_count",
         "rawType": "int64",
         "type": "integer"
        },
        {
         "name": "supplier_delivery_count",
         "rawType": "int64",
         "type": "integer"
        },
        {
         "name": "delivery_total_weight",
         "rawType": "float64",
         "type": "float"
        },
        {
         "name": "delivery_avg_weight",
         "rawType": "float64",
         "type": "float"
        },
        {
         "name": "transporter_unique_count",
         "rawType": "int64",
         "type": "integer"
        },
        {
         "name": "transporter_vehicle_unique",
         "rawType": "int64",
         "type": "integer"
        },
        {
         "name": "raw_material_alloy_mode_code",
         "rawType": "int64",
         "type": "integer"
        },
        {
         "name": "raw_material_format_mode_code",
         "rawType": "int64",
         "type": "integer"
        },
        {
         "name": "stock_location_mode_code",
         "rawType": "int64",
         "type": "integer"
        },
        {
         "name": "suggested_shrink_factor",
         "rawType": "float64",
         "type": "float"
        },
        {
         "name": "anchor_date",
         "rawType": "object",
         "type": "string"
        }
       ],
       "ref": "42f06313-34df-4b0d-8d9a-c058d2856eee",
       "rows": [
        [
         "0",
         "1",
         "365",
         "2025-01-01",
         "2025-01-02",
         "2",
         "0.2857142857142857",
         "1",
         "1",
         "0.0",
         "25616003.0",
         "0.0",
         "0.0",
         "0.0",
         "0.0",
         "0.0",
         "0.0",
         "0.0",
         "0.0",
         "0.0",
         "0.0",
         "0.0",
         "0.0",
         "0.0",
         "0.0",
         "0.0",
         "0.0",
         "0.0",
         "0.0",
         "0.0",
         "0.0",
         "0.0",
         "0.0",
         "0.0",
         "0.0",
         "0.0",
         "0.0",
         "0.0",
         "0.0",
         "0.0",
         "0.0",
         "0.0",
         "0.0",
         "0.0",
         "0.0",
         "0.0",
         "0.0",
         "0.0",
         "0.0",
         "0.0",
         "0.0",
         "0.0",
         "0.0",
         "0.0",
         "0.0",
         "0.0",
         "0.0",
         "0.0",
         "0.0",
         "0.0",
         "0.0",
         "0.0",
         "0.0",
         "0.0",
         "0.0",
         "0.0",
         "0.0",
         "0.0",
         "0.0",
         "-3.0",
         "1e-323",
         "3.1434555694052576e-162",
         "1.5e-323",
         "3.849931087076416e-162",
         "8.419801061819437e-205",
         "3.6073365468549367e-100",
         "2.1826526773152066e-65",
         "1.9137279115236386e-30",
         "0.0",
         "0.0",
         "0.0",
         "0.0",
         "7216.0",
         "7216.0",
         "1",
         "1",
         "12",
         "4",
         "2024",
         "-2.4492935982947064e-16",
         "1.0",
         "0.120536680255323",
         "0.992708874098054",
         "1",
         "0",
         "1",
         "0",
         "0.0",
         "0.0",
         "0.0",
         "0.0",
         "0.0",
         "0.0",
         "0.0",
         "0.0",
         "0.0",
         "0.0",
         "0.0",
         "0.0",
         "0.0",
         "0.0",
         "0.0",
         "0.0",
         "0.0",
         "0.0",
         "0.0",
         "0.0",
         "0.0",
         "0.0",
         "0.0",
         "0.0",
         "606035 CPS",
         "24.0",
         "DELETED_28.02:2011_SB03 900107",
         "1",
         "1",
         "30",
         "1722",
         "25616003.0",
         "14875.727642276424",
         "18",
         "564",
         "14",
         "0",
         "11",
         "1.0",
         "2024-12-31"
        ],
        [
         "1",
         "2",
         "365",
         "2025-01-01",
         "2025-01-03",
         "3",
         "0.4285714285714285",
         "1",
         "1",
         "0.0",
         "25616003.0",
         "0.0",
         "0.0",
         "0.0",
         "0.0",
         "0.0",
         "0.0",
         "0.0",
         "0.0",
         "0.0",
         "0.0",
         "0.0",
         "0.0",
         "0.0",
         "0.0",
         "0.0",
         "0.0",
         "0.0",
         "0.0",
         "0.0",
         "0.0",
         "0.0",
         "0.0",
         "0.0",
         "0.0",
         "0.0",
         "0.0",
         "0.0",
         "0.0",
         "0.0",
         "0.0",
         "0.0",
         "0.0",
         "0.0",
         "0.0",
         "0.0",
         "0.0",
         "0.0",
         "0.0",
         "0.0",
         "0.0",
         "0.0",
         "0.0",
         "0.0",
         "0.0",
         "0.0",
         "0.0",
         "0.0",
         "0.0",
         "0.0",
         "0.0",
         "0.0",
         "0.0",
         "0.0",
         "0.0",
         "0.0",
         "0.0",
         "0.0",
         "0.0",
         "-3.0",
         "1e-323",
         "3.1434555694052576e-162",
         "1.5e-323",
         "3.849931087076416e-162",
         "8.419801061819437e-205",
         "3.6073365468549367e-100",
         "2.1826526773152066e-65",
         "1.9137279115236386e-30",
         "0.0",
         "0.0",
         "0.0",
         "0.0",
         "7216.0",
         "7216.0",
         "1",
         "1",
         "12",
         "4",
         "2024",
         "-2.4492935982947064e-16",
         "1.0",
         "0.120536680255323",
         "0.992708874098054",
         "1",
         "0",
         "1",
         "0",
         "0.0",
         "0.0",
         "0.0",
         "0.0",
         "0.0",
         "0.0",
         "0.0",
         "0.0",
         "0.0",
         "0.0",
         "0.0",
         "0.0",
         "0.0",
         "0.0",
         "0.0",
         "0.0",
         "0.0",
         "0.0",
         "0.0",
         "0.0",
         "0.0",
         "0.0",
         "0.0",
         "0.0",
         "606035 CPS",
         "24.0",
         "DELETED_28.02:2011_SB03 900107",
         "1",
         "1",
         "30",
         "1722",
         "25616003.0",
         "14875.727642276424",
         "18",
         "564",
         "14",
         "0",
         "11",
         "1.0",
         "2024-12-31"
        ],
        [
         "2",
         "3",
         "365",
         "2025-01-01",
         "2025-01-04",
         "4",
         "0.5714285714285714",
         "1",
         "1",
         "0.0",
         "25616003.0",
         "0.0",
         "0.0",
         "0.0",
         "0.0",
         "0.0",
         "0.0",
         "0.0",
         "0.0",
         "0.0",
         "0.0",
         "0.0",
         "0.0",
         "0.0",
         "0.0",
         "0.0",
         "0.0",
         "0.0",
         "0.0",
         "0.0",
         "0.0",
         "0.0",
         "0.0",
         "0.0",
         "0.0",
         "0.0",
         "0.0",
         "0.0",
         "0.0",
         "0.0",
         "0.0",
         "0.0",
         "0.0",
         "0.0",
         "0.0",
         "0.0",
         "0.0",
         "0.0",
         "0.0",
         "0.0",
         "0.0",
         "0.0",
         "0.0",
         "0.0",
         "0.0",
         "0.0",
         "0.0",
         "0.0",
         "0.0",
         "0.0",
         "0.0",
         "0.0",
         "0.0",
         "0.0",
         "0.0",
         "0.0",
         "0.0",
         "0.0",
         "0.0",
         "-3.0",
         "1e-323",
         "3.1434555694052576e-162",
         "1.5e-323",
         "3.849931087076416e-162",
         "8.419801061819437e-205",
         "3.6073365468549367e-100",
         "2.1826526773152066e-65",
         "1.9137279115236386e-30",
         "0.0",
         "0.0",
         "0.0",
         "0.0",
         "7216.0",
         "7216.0",
         "1",
         "1",
         "12",
         "4",
         "2024",
         "-2.4492935982947064e-16",
         "1.0",
         "0.120536680255323",
         "0.992708874098054",
         "1",
         "0",
         "1",
         "0",
         "0.0",
         "0.0",
         "0.0",
         "0.0",
         "0.0",
         "0.0",
         "0.0",
         "0.0",
         "0.0",
         "0.0",
         "0.0",
         "0.0",
         "0.0",
         "0.0",
         "0.0",
         "0.0",
         "0.0",
         "0.0",
         "0.0",
         "0.0",
         "0.0",
         "0.0",
         "0.0",
         "0.0",
         "606035 CPS",
         "24.0",
         "DELETED_28.02:2011_SB03 900107",
         "1",
         "1",
         "30",
         "1722",
         "25616003.0",
         "14875.727642276424",
         "18",
         "564",
         "14",
         "0",
         "11",
         "1.0",
         "2024-12-31"
        ],
        [
         "3",
         "4",
         "365",
         "2025-01-01",
         "2025-01-05",
         "5",
         "0.7142857142857143",
         "1",
         "1",
         "0.0",
         "25616003.0",
         "0.0",
         "0.0",
         "0.0",
         "0.0",
         "0.0",
         "0.0",
         "0.0",
         "0.0",
         "0.0",
         "0.0",
         "0.0",
         "0.0",
         "0.0",
         "0.0",
         "0.0",
         "0.0",
         "0.0",
         "0.0",
         "0.0",
         "0.0",
         "0.0",
         "0.0",
         "0.0",
         "0.0",
         "0.0",
         "0.0",
         "0.0",
         "0.0",
         "0.0",
         "0.0",
         "0.0",
         "0.0",
         "0.0",
         "0.0",
         "0.0",
         "0.0",
         "0.0",
         "0.0",
         "0.0",
         "0.0",
         "0.0",
         "0.0",
         "0.0",
         "0.0",
         "0.0",
         "0.0",
         "0.0",
         "0.0",
         "0.0",
         "0.0",
         "0.0",
         "0.0",
         "0.0",
         "0.0",
         "0.0",
         "0.0",
         "0.0",
         "0.0",
         "-3.0",
         "1e-323",
         "3.1434555694052576e-162",
         "1.5e-323",
         "3.849931087076416e-162",
         "8.419801061819437e-205",
         "3.6073365468549367e-100",
         "2.1826526773152066e-65",
         "1.9137279115236386e-30",
         "0.0",
         "0.0",
         "0.0",
         "0.0",
         "7216.0",
         "7216.0",
         "1",
         "1",
         "12",
         "4",
         "2024",
         "-2.4492935982947064e-16",
         "1.0",
         "0.120536680255323",
         "0.992708874098054",
         "1",
         "0",
         "1",
         "0",
         "0.0",
         "0.0",
         "0.0",
         "0.0",
         "0.0",
         "0.0",
         "0.0",
         "0.0",
         "0.0",
         "0.0",
         "0.0",
         "0.0",
         "0.0",
         "0.0",
         "0.0",
         "0.0",
         "0.0",
         "0.0",
         "0.0",
         "0.0",
         "0.0",
         "0.0",
         "0.0",
         "0.0",
         "606035 CPS",
         "24.0",
         "DELETED_28.02:2011_SB03 900107",
         "1",
         "1",
         "30",
         "1722",
         "25616003.0",
         "14875.727642276424",
         "18",
         "564",
         "14",
         "0",
         "11",
         "1.0",
         "2024-12-31"
        ],
        [
         "4",
         "5",
         "365",
         "2025-01-01",
         "2025-01-06",
         "6",
         "0.8571428571428571",
         "1",
         "1",
         "0.0",
         "25616003.0",
         "0.0",
         "0.0",
         "0.0",
         "0.0",
         "0.0",
         "0.0",
         "0.0",
         "0.0",
         "0.0",
         "0.0",
         "0.0",
         "0.0",
         "0.0",
         "0.0",
         "0.0",
         "0.0",
         "0.0",
         "0.0",
         "0.0",
         "0.0",
         "0.0",
         "0.0",
         "0.0",
         "0.0",
         "0.0",
         "0.0",
         "0.0",
         "0.0",
         "0.0",
         "0.0",
         "0.0",
         "0.0",
         "0.0",
         "0.0",
         "0.0",
         "0.0",
         "0.0",
         "0.0",
         "0.0",
         "0.0",
         "0.0",
         "0.0",
         "0.0",
         "0.0",
         "0.0",
         "0.0",
         "0.0",
         "0.0",
         "0.0",
         "0.0",
         "0.0",
         "0.0",
         "0.0",
         "0.0",
         "0.0",
         "0.0",
         "0.0",
         "0.0",
         "-3.0",
         "1e-323",
         "3.1434555694052576e-162",
         "1.5e-323",
         "3.849931087076416e-162",
         "8.419801061819437e-205",
         "3.6073365468549367e-100",
         "2.1826526773152066e-65",
         "1.9137279115236386e-30",
         "0.0",
         "0.0",
         "0.0",
         "0.0",
         "7216.0",
         "7216.0",
         "1",
         "1",
         "12",
         "4",
         "2024",
         "-2.4492935982947064e-16",
         "1.0",
         "0.120536680255323",
         "0.992708874098054",
         "1",
         "0",
         "1",
         "0",
         "0.0",
         "0.0",
         "0.0",
         "0.0",
         "0.0",
         "0.0",
         "0.0",
         "0.0",
         "0.0",
         "0.0",
         "0.0",
         "0.0",
         "0.0",
         "0.0",
         "0.0",
         "0.0",
         "0.0",
         "0.0",
         "0.0",
         "0.0",
         "0.0",
         "0.0",
         "0.0",
         "0.0",
         "606035 CPS",
         "24.0",
         "DELETED_28.02:2011_SB03 900107",
         "1",
         "1",
         "30",
         "1722",
         "25616003.0",
         "14875.727642276424",
         "18",
         "564",
         "14",
         "0",
         "11",
         "1.0",
         "2024-12-31"
        ]
       ],
       "shape": {
        "columns": 136,
        "rows": 5
       }
      },
      "text/html": [
       "<div>\n",
       "<style scoped>\n",
       "    .dataframe tbody tr th:only-of-type {\n",
       "        vertical-align: middle;\n",
       "    }\n",
       "\n",
       "    .dataframe tbody tr th {\n",
       "        vertical-align: top;\n",
       "    }\n",
       "\n",
       "    .dataframe thead th {\n",
       "        text-align: right;\n",
       "    }\n",
       "</style>\n",
       "<table border=\"1\" class=\"dataframe\">\n",
       "  <thead>\n",
       "    <tr style=\"text-align: right;\">\n",
       "      <th></th>\n",
       "      <th>ID</th>\n",
       "      <th>rm_id</th>\n",
       "      <th>forecast_start_date</th>\n",
       "      <th>forecast_end_date</th>\n",
       "      <th>horizon_days</th>\n",
       "      <th>horizon_weeks</th>\n",
       "      <th>forecast_end_month</th>\n",
       "      <th>forecast_end_quarter</th>\n",
       "      <th>net_weight</th>\n",
       "      <th>cumulative_net_weight</th>\n",
       "      <th>...</th>\n",
       "      <th>supplier_delivery_count</th>\n",
       "      <th>delivery_total_weight</th>\n",
       "      <th>delivery_avg_weight</th>\n",
       "      <th>transporter_unique_count</th>\n",
       "      <th>transporter_vehicle_unique</th>\n",
       "      <th>raw_material_alloy_mode_code</th>\n",
       "      <th>raw_material_format_mode_code</th>\n",
       "      <th>stock_location_mode_code</th>\n",
       "      <th>suggested_shrink_factor</th>\n",
       "      <th>anchor_date</th>\n",
       "    </tr>\n",
       "  </thead>\n",
       "  <tbody>\n",
       "    <tr>\n",
       "      <th>0</th>\n",
       "      <td>1</td>\n",
       "      <td>365</td>\n",
       "      <td>2025-01-01</td>\n",
       "      <td>2025-01-02</td>\n",
       "      <td>2</td>\n",
       "      <td>0.285714</td>\n",
       "      <td>1</td>\n",
       "      <td>1</td>\n",
       "      <td>0.0</td>\n",
       "      <td>25616003.0</td>\n",
       "      <td>...</td>\n",
       "      <td>1722</td>\n",
       "      <td>25616003.0</td>\n",
       "      <td>14875.727642</td>\n",
       "      <td>18</td>\n",
       "      <td>564</td>\n",
       "      <td>14</td>\n",
       "      <td>0</td>\n",
       "      <td>11</td>\n",
       "      <td>1.0</td>\n",
       "      <td>2024-12-31</td>\n",
       "    </tr>\n",
       "    <tr>\n",
       "      <th>1</th>\n",
       "      <td>2</td>\n",
       "      <td>365</td>\n",
       "      <td>2025-01-01</td>\n",
       "      <td>2025-01-03</td>\n",
       "      <td>3</td>\n",
       "      <td>0.428571</td>\n",
       "      <td>1</td>\n",
       "      <td>1</td>\n",
       "      <td>0.0</td>\n",
       "      <td>25616003.0</td>\n",
       "      <td>...</td>\n",
       "      <td>1722</td>\n",
       "      <td>25616003.0</td>\n",
       "      <td>14875.727642</td>\n",
       "      <td>18</td>\n",
       "      <td>564</td>\n",
       "      <td>14</td>\n",
       "      <td>0</td>\n",
       "      <td>11</td>\n",
       "      <td>1.0</td>\n",
       "      <td>2024-12-31</td>\n",
       "    </tr>\n",
       "    <tr>\n",
       "      <th>2</th>\n",
       "      <td>3</td>\n",
       "      <td>365</td>\n",
       "      <td>2025-01-01</td>\n",
       "      <td>2025-01-04</td>\n",
       "      <td>4</td>\n",
       "      <td>0.571429</td>\n",
       "      <td>1</td>\n",
       "      <td>1</td>\n",
       "      <td>0.0</td>\n",
       "      <td>25616003.0</td>\n",
       "      <td>...</td>\n",
       "      <td>1722</td>\n",
       "      <td>25616003.0</td>\n",
       "      <td>14875.727642</td>\n",
       "      <td>18</td>\n",
       "      <td>564</td>\n",
       "      <td>14</td>\n",
       "      <td>0</td>\n",
       "      <td>11</td>\n",
       "      <td>1.0</td>\n",
       "      <td>2024-12-31</td>\n",
       "    </tr>\n",
       "    <tr>\n",
       "      <th>3</th>\n",
       "      <td>4</td>\n",
       "      <td>365</td>\n",
       "      <td>2025-01-01</td>\n",
       "      <td>2025-01-05</td>\n",
       "      <td>5</td>\n",
       "      <td>0.714286</td>\n",
       "      <td>1</td>\n",
       "      <td>1</td>\n",
       "      <td>0.0</td>\n",
       "      <td>25616003.0</td>\n",
       "      <td>...</td>\n",
       "      <td>1722</td>\n",
       "      <td>25616003.0</td>\n",
       "      <td>14875.727642</td>\n",
       "      <td>18</td>\n",
       "      <td>564</td>\n",
       "      <td>14</td>\n",
       "      <td>0</td>\n",
       "      <td>11</td>\n",
       "      <td>1.0</td>\n",
       "      <td>2024-12-31</td>\n",
       "    </tr>\n",
       "    <tr>\n",
       "      <th>4</th>\n",
       "      <td>5</td>\n",
       "      <td>365</td>\n",
       "      <td>2025-01-01</td>\n",
       "      <td>2025-01-06</td>\n",
       "      <td>6</td>\n",
       "      <td>0.857143</td>\n",
       "      <td>1</td>\n",
       "      <td>1</td>\n",
       "      <td>0.0</td>\n",
       "      <td>25616003.0</td>\n",
       "      <td>...</td>\n",
       "      <td>1722</td>\n",
       "      <td>25616003.0</td>\n",
       "      <td>14875.727642</td>\n",
       "      <td>18</td>\n",
       "      <td>564</td>\n",
       "      <td>14</td>\n",
       "      <td>0</td>\n",
       "      <td>11</td>\n",
       "      <td>1.0</td>\n",
       "      <td>2024-12-31</td>\n",
       "    </tr>\n",
       "  </tbody>\n",
       "</table>\n",
       "<p>5 rows × 136 columns</p>\n",
       "</div>"
      ],
      "text/plain": [
       "   ID  rm_id forecast_start_date forecast_end_date  horizon_days  \\\n",
       "0   1    365          2025-01-01        2025-01-02             2   \n",
       "1   2    365          2025-01-01        2025-01-03             3   \n",
       "2   3    365          2025-01-01        2025-01-04             4   \n",
       "3   4    365          2025-01-01        2025-01-05             5   \n",
       "4   5    365          2025-01-01        2025-01-06             6   \n",
       "\n",
       "   horizon_weeks  forecast_end_month  forecast_end_quarter  net_weight  \\\n",
       "0       0.285714                   1                     1         0.0   \n",
       "1       0.428571                   1                     1         0.0   \n",
       "2       0.571429                   1                     1         0.0   \n",
       "3       0.714286                   1                     1         0.0   \n",
       "4       0.857143                   1                     1         0.0   \n",
       "\n",
       "   cumulative_net_weight  ...  supplier_delivery_count  delivery_total_weight  \\\n",
       "0             25616003.0  ...                     1722             25616003.0   \n",
       "1             25616003.0  ...                     1722             25616003.0   \n",
       "2             25616003.0  ...                     1722             25616003.0   \n",
       "3             25616003.0  ...                     1722             25616003.0   \n",
       "4             25616003.0  ...                     1722             25616003.0   \n",
       "\n",
       "   delivery_avg_weight  transporter_unique_count  transporter_vehicle_unique  \\\n",
       "0         14875.727642                        18                         564   \n",
       "1         14875.727642                        18                         564   \n",
       "2         14875.727642                        18                         564   \n",
       "3         14875.727642                        18                         564   \n",
       "4         14875.727642                        18                         564   \n",
       "\n",
       "   raw_material_alloy_mode_code  raw_material_format_mode_code  \\\n",
       "0                            14                              0   \n",
       "1                            14                              0   \n",
       "2                            14                              0   \n",
       "3                            14                              0   \n",
       "4                            14                              0   \n",
       "\n",
       "   stock_location_mode_code  suggested_shrink_factor  anchor_date  \n",
       "0                        11                      1.0   2024-12-31  \n",
       "1                        11                      1.0   2024-12-31  \n",
       "2                        11                      1.0   2024-12-31  \n",
       "3                        11                      1.0   2024-12-31  \n",
       "4                        11                      1.0   2024-12-31  \n",
       "\n",
       "[5 rows x 136 columns]"
      ]
     },
     "execution_count": 27,
     "metadata": {},
     "output_type": "execute_result"
    }
   ],
   "source": [
    "# Load feature matrix generated by src/feature_engineering.py\n",
    "features_path = Path('data/processed/prediction_features_20241231.csv')\n",
    "df = pd.read_csv(features_path)\n",
    "\n",
    "print(f\"Feature matrix shape: {df.shape}\")\n",
    "print(f\"\\nColumns: {list(df.columns[:20])}... ({len(df.columns)} total)\")\n",
    "print(f\"\\nSample:\")\n",
    "df.head()"
   ]
  },
  {
   "cell_type": "code",
   "execution_count": 3,
   "id": "68dcb871",
   "metadata": {},
   "outputs": [
    {
     "name": "stdout",
     "output_type": "stream",
     "text": [
      "✅ No missing values\n"
     ]
    }
   ],
   "source": [
    "# Check for missing values\n",
    "missing = df.isnull().sum()\n",
    "missing = missing[missing > 0].sort_values(ascending=False)\n",
    "if len(missing) > 0:\n",
    "    print(\"⚠️ Missing values found:\")\n",
    "    print(missing)\n",
    "else:\n",
    "    print(\"✅ No missing values\")\n",
    "\n",
    "# Fill any remaining NaN with 0\n",
    "df = df.fillna(0)"
   ]
  },
  {
   "cell_type": "markdown",
   "id": "fe98c8a6",
   "metadata": {},
   "source": [
    "## 🎯 Prepare Training Data\n",
    "\n",
    "We need historical data to train the model. Since we're predicting Jan-May 2025, we'll use historical receivals up to Dec 31, 2024 to create training samples."
   ]
  },
  {
   "cell_type": "code",
   "execution_count": 4,
   "id": "9f556123",
   "metadata": {},
   "outputs": [
    {
     "name": "stdout",
     "output_type": "stream",
     "text": [
      "Receivals shape: (122590, 11)\n",
      "Date range: 2004-06-15 00:00:00 to 2024-12-19 00:00:00\n"
     ]
    }
   ],
   "source": [
    "# Load historical receivals for target creation\n",
    "receivals = pd.read_csv(\n",
    "    'data/kernel/receivals.csv',\n",
    "    parse_dates=['date_arrival']\n",
    ")\n",
    "\n",
    "receivals['date_arrival'] = pd.to_datetime(\n",
    "    receivals['date_arrival'], utc=True\n",
    ").dt.tz_convert(None)\n",
    "receivals['arrival_date'] = receivals['date_arrival'].dt.normalize()\n",
    "receivals['net_weight'] = receivals['net_weight'].fillna(0.0)\n",
    "\n",
    "print(f\"Receivals shape: {receivals.shape}\")\n",
    "print(f\"Date range: {receivals['arrival_date'].min()} to {receivals['arrival_date'].max()}\")"
   ]
  },
  {
   "cell_type": "code",
   "execution_count": 5,
   "id": "2212586d",
   "metadata": {},
   "outputs": [
    {
     "name": "stdout",
     "output_type": "stream",
     "text": [
      "✅ Training sample generator ready\n"
     ]
    }
   ],
   "source": [
    "def create_training_samples(\n",
    "    receivals: pd.DataFrame,\n",
    "    n_samples: int = 30000,\n",
    "    min_date: str = '2020-01-01',\n",
    "    max_date: str = '2024-11-30',\n",
    "    min_horizon: int = 1,\n",
    "    max_horizon: int = 150,\n",
    "    random_state: int = 42\n",
    ") -> pd.DataFrame:\n",
    "    \"\"\"\n",
    "    Create training samples by simulating forecast horizons from historical data.\n",
    "    \n",
    "    For each sample:\n",
    "    - Pick a random anchor date (between min_date and max_date)\n",
    "    - Pick a random rm_id\n",
    "    - Pick a random horizon (1-150 days)\n",
    "    - Calculate actual cumulative weight from anchor+1 to anchor+horizon\n",
    "    \"\"\"\n",
    "    np.random.seed(random_state)\n",
    "    \n",
    "    # Filter receivals to valid date range\n",
    "    receivals_filtered = receivals[\n",
    "        (receivals['arrival_date'] >= pd.Timestamp(min_date)) &\n",
    "        (receivals['arrival_date'] <= pd.Timestamp(max_date))\n",
    "    ].copy()\n",
    "    \n",
    "    rm_ids = receivals_filtered['rm_id'].unique()\n",
    "    date_range = pd.date_range(\n",
    "        start=min_date,\n",
    "        end=max_date,\n",
    "        freq='D'\n",
    "    )\n",
    "    \n",
    "    # Generate random samples\n",
    "    samples = []\n",
    "    for _ in range(n_samples):\n",
    "        # Random selections\n",
    "        anchor_date = np.random.choice(date_range[:-max_horizon])  # Leave room for horizon\n",
    "        rm_id = np.random.choice(rm_ids)\n",
    "        horizon_days = np.random.randint(min_horizon, max_horizon + 1)\n",
    "        \n",
    "        forecast_start = anchor_date + pd.Timedelta(days=1)\n",
    "        forecast_end = forecast_start + pd.Timedelta(days=horizon_days - 1)\n",
    "        \n",
    "        # Calculate actual cumulative weight in forecast window\n",
    "        mask = (\n",
    "            (receivals_filtered['rm_id'] == rm_id) &\n",
    "            (receivals_filtered['arrival_date'] >= forecast_start) &\n",
    "            (receivals_filtered['arrival_date'] <= forecast_end)\n",
    "        )\n",
    "        actual_weight = receivals_filtered.loc[mask, 'net_weight'].sum()\n",
    "        \n",
    "        samples.append({\n",
    "            'rm_id': rm_id,\n",
    "            'anchor_date': anchor_date,\n",
    "            'forecast_start_date': forecast_start,\n",
    "            'forecast_end_date': forecast_end,\n",
    "            'horizon_days': horizon_days,\n",
    "            'target': actual_weight\n",
    "        })\n",
    "    \n",
    "    return pd.DataFrame(samples)\n",
    "\n",
    "print(\"✅ Training sample generator ready\")"
   ]
  },
  {
   "cell_type": "code",
   "execution_count": 6,
   "id": "68bbe2d3",
   "metadata": {},
   "outputs": [
    {
     "name": "stdout",
     "output_type": "stream",
     "text": [
      "Generating 30,000 training samples...\n",
      "\n",
      "Training samples shape: (30000, 6)\n",
      "Target statistics:\n",
      "count    3.000000e+04\n",
      "mean     1.971808e+05\n",
      "std      8.037211e+05\n",
      "min      0.000000e+00\n",
      "25%      0.000000e+00\n",
      "50%      0.000000e+00\n",
      "75%      2.488000e+04\n",
      "max      1.451206e+07\n",
      "Name: target, dtype: float64\n",
      "\n",
      "Zero targets: 19970 (66.6%)\n",
      "\n",
      "Training samples shape: (30000, 6)\n",
      "Target statistics:\n",
      "count    3.000000e+04\n",
      "mean     1.971808e+05\n",
      "std      8.037211e+05\n",
      "min      0.000000e+00\n",
      "25%      0.000000e+00\n",
      "50%      0.000000e+00\n",
      "75%      2.488000e+04\n",
      "max      1.451206e+07\n",
      "Name: target, dtype: float64\n",
      "\n",
      "Zero targets: 19970 (66.6%)\n"
     ]
    }
   ],
   "source": [
    "# Generate training samples\n",
    "print(\"Generating 30,000 training samples...\")\n",
    "train_samples = create_training_samples(\n",
    "    receivals,\n",
    "    n_samples=30000,\n",
    "    min_date='2020-01-01',\n",
    "    max_date='2024-11-30',\n",
    "    random_state=RANDOM_STATE\n",
    ")\n",
    "\n",
    "print(f\"\\nTraining samples shape: {train_samples.shape}\")\n",
    "print(f\"Target statistics:\")\n",
    "print(train_samples['target'].describe())\n",
    "print(f\"\\nZero targets: {(train_samples['target'] == 0).sum()} ({(train_samples['target'] == 0).mean():.1%})\")"
   ]
  },
  {
   "cell_type": "markdown",
   "id": "499160d7",
   "metadata": {},
   "source": [
    "## 🔧 Feature Engineering on Training Samples\n",
    "\n",
    "We need to generate the same features for training samples as we have for the prediction set."
   ]
  },
  {
   "cell_type": "code",
   "execution_count": 7,
   "id": "5b41c50f",
   "metadata": {},
   "outputs": [
    {
     "name": "stdout",
     "output_type": "stream",
     "text": [
      "✅ Feature engineering functions loaded\n"
     ]
    }
   ],
   "source": [
    "# Import feature engineering module\n",
    "import sys\n",
    "sys.path.append('src')\n",
    "from feature_engineering import (\n",
    "    load_raw_data,\n",
    "    build_daily_receivals,\n",
    "    engineer_temporal_features,\n",
    "    engineer_calendar_features,\n",
    "    engineer_purchase_order_features,\n",
    "    engineer_metadata_features,\n",
    "    build_feature_snapshot\n",
    ")\n",
    "\n",
    "print(\"✅ Feature engineering functions loaded\")"
   ]
  },
  {
   "cell_type": "code",
   "execution_count": 8,
   "id": "e6ee8550",
   "metadata": {},
   "outputs": [
    {
     "name": "stdout",
     "output_type": "stream",
     "text": [
      "Loading raw data...\n",
      "Building daily receivals...\n",
      "Engineering temporal features...\n",
      "Building daily receivals...\n",
      "Engineering temporal features...\n",
      "Temporal features shape: (1517222, 91)\n",
      "Temporal features shape: (1517222, 91)\n"
     ]
    }
   ],
   "source": [
    "# Load raw data\n",
    "print(\"Loading raw data...\")\n",
    "raw = load_raw_data(Path('.'))\n",
    "\n",
    "# Build daily receivals up to max training anchor date\n",
    "print(\"Building daily receivals...\")\n",
    "daily = build_daily_receivals(\n",
    "    raw.receivals,\n",
    "    end_date=pd.Timestamp('2024-11-30')\n",
    ")\n",
    "\n",
    "# Engineer temporal features\n",
    "print(\"Engineering temporal features...\")\n",
    "temporal = engineer_temporal_features(daily)\n",
    "temporal = engineer_calendar_features(temporal)\n",
    "\n",
    "print(f\"Temporal features shape: {temporal.shape}\")"
   ]
  },
  {
   "cell_type": "code",
   "execution_count": 9,
   "id": "8c8f7b35",
   "metadata": {},
   "outputs": [
    {
     "name": "stdout",
     "output_type": "stream",
     "text": [
      "Engineering PO and metadata features...\n",
      "PO features shape: (85592, 26)\n",
      "Metadata features shape: (203, 15)\n",
      "PO features shape: (85592, 26)\n",
      "Metadata features shape: (203, 15)\n"
     ]
    }
   ],
   "source": [
    "# Engineer PO and metadata features for each unique anchor date\n",
    "print(\"Engineering PO and metadata features...\")\n",
    "\n",
    "po_features_list = []\n",
    "for anchor_date in train_samples['anchor_date'].unique():\n",
    "    po_feat = engineer_purchase_order_features(\n",
    "        raw.purchase_orders,\n",
    "        raw.receivals,\n",
    "        pd.Timestamp(anchor_date)\n",
    "    )\n",
    "    po_feat['anchor_date'] = anchor_date\n",
    "    po_features_list.append(po_feat)\n",
    "\n",
    "po_features_all = pd.concat(po_features_list, ignore_index=True)\n",
    "\n",
    "# Metadata features (static per rm_id)\n",
    "meta_features = engineer_metadata_features(\n",
    "    raw.materials,\n",
    "    raw.receivals,\n",
    "    raw.transportation\n",
    ")\n",
    "\n",
    "print(f\"PO features shape: {po_features_all.shape}\")\n",
    "print(f\"Metadata features shape: {meta_features.shape}\")"
   ]
  },
  {
   "cell_type": "code",
   "execution_count": 10,
   "id": "baea2138",
   "metadata": {},
   "outputs": [
    {
     "name": "stdout",
     "output_type": "stream",
     "text": [
      "Merging features with training samples...\n",
      "\n",
      "Training features shape: (30000, 137)\n",
      "Columns: 137\n",
      "\n",
      "Training features shape: (30000, 137)\n",
      "Columns: 137\n"
     ]
    }
   ],
   "source": [
    "# Merge features with training samples\n",
    "print(\"Merging features with training samples...\")\n",
    "\n",
    "# Merge temporal features (match on rm_id and anchor_date)\n",
    "train_features = train_samples.merge(\n",
    "    temporal,\n",
    "    left_on=['rm_id', 'anchor_date'],\n",
    "    right_on=['rm_id', 'date'],\n",
    "    how='left'\n",
    ")\n",
    "\n",
    "# Merge PO features\n",
    "train_features = train_features.merge(\n",
    "    po_features_all,\n",
    "    on=['rm_id', 'anchor_date'],\n",
    "    how='left'\n",
    ")\n",
    "\n",
    "# Merge metadata features\n",
    "train_features = train_features.merge(\n",
    "    meta_features,\n",
    "    on='rm_id',\n",
    "    how='left'\n",
    ")\n",
    "\n",
    "# Add horizon-specific features\n",
    "train_features['horizon_weeks'] = train_features['horizon_days'] / 7.0\n",
    "train_features['forecast_end_month'] = train_features['forecast_end_date'].dt.month\n",
    "train_features['forecast_end_quarter'] = train_features['forecast_end_date'].dt.quarter\n",
    "\n",
    "# Fill NaN\n",
    "train_features = train_features.fillna(0)\n",
    "\n",
    "print(f\"\\nTraining features shape: {train_features.shape}\")\n",
    "print(f\"Columns: {len(train_features.columns)}\")"
   ]
  },
  {
   "cell_type": "markdown",
   "id": "0c4b8f7a",
   "metadata": {},
   "source": [
    "## 🎯 Prepare Train/Validation Split"
   ]
  },
  {
   "cell_type": "code",
   "execution_count": 11,
   "id": "cda596ee",
   "metadata": {},
   "outputs": [
    {
     "name": "stdout",
     "output_type": "stream",
     "text": [
      "Feature matrix: (30000, 125)\n",
      "Target: (30000,)\n",
      "\n",
      "Feature columns (125):\n",
      "['horizon_days', 'roll_sum_7d', 'roll_mean_7d', 'roll_std_7d', 'roll_p10_7d', 'roll_p20_7d', 'roll_p50_7d', 'delivery_freq_7d', 'roll_sum_14d', 'roll_mean_14d', 'roll_std_14d', 'roll_p10_14d', 'roll_p20_14d', 'roll_p50_14d', 'delivery_freq_14d', 'roll_sum_28d', 'roll_mean_28d', 'roll_std_28d', 'roll_p10_28d', 'roll_p20_28d'] ...\n"
     ]
    }
   ],
   "source": [
    "# Define feature columns (exclude metadata columns)\n",
    "exclude_cols = [\n",
    "    'rm_id', 'anchor_date', 'forecast_start_date', 'forecast_end_date',\n",
    "    'target', 'date', 'has_delivery', 'net_weight', 'cumulative_net_weight',\n",
    "    'ID', 'arrival_date',\n",
    "    # Exclude high-cardinality categorical mode columns\n",
    "    'raw_material_alloy_mode', 'raw_material_format_mode', 'stock_location_mode'\n",
    "]\n",
    "\n",
    "feature_cols = [c for c in train_features.columns if c not in exclude_cols]\n",
    "\n",
    "X = train_features[feature_cols].copy()\n",
    "y = train_features['target'].copy()\n",
    "\n",
    "print(f\"Feature matrix: {X.shape}\")\n",
    "print(f\"Target: {y.shape}\")\n",
    "print(f\"\\nFeature columns ({len(feature_cols)}):\")\n",
    "print(feature_cols[:20], '...')"
   ]
  },
  {
   "cell_type": "code",
   "execution_count": 12,
   "id": "15bb61e7",
   "metadata": {},
   "outputs": [
    {
     "name": "stdout",
     "output_type": "stream",
     "text": [
      "Train set: (24000, 125)\n",
      "Validation set: (6000, 125)\n",
      "\n",
      "Train target stats:\n",
      "count    2.400000e+04\n",
      "mean     1.940661e+05\n",
      "std      7.888224e+05\n",
      "min      0.000000e+00\n",
      "25%      0.000000e+00\n",
      "50%      0.000000e+00\n",
      "75%      2.464275e+04\n",
      "max      1.451206e+07\n",
      "Name: target, dtype: float64\n",
      "\n",
      "Validation target stats:\n",
      "count    6.000000e+03\n",
      "mean     2.096397e+05\n",
      "std      8.606977e+05\n",
      "min      0.000000e+00\n",
      "25%      0.000000e+00\n",
      "50%      0.000000e+00\n",
      "75%      2.865925e+04\n",
      "max      1.363502e+07\n",
      "Name: target, dtype: float64\n"
     ]
    }
   ],
   "source": [
    "# Train/validation split (80/20)\n",
    "X_train, X_val, y_train, y_val = train_test_split(\n",
    "    X, y,\n",
    "    test_size=0.2,\n",
    "    random_state=RANDOM_STATE\n",
    ")\n",
    "\n",
    "print(f\"Train set: {X_train.shape}\")\n",
    "print(f\"Validation set: {X_val.shape}\")\n",
    "print(f\"\\nTrain target stats:\")\n",
    "print(y_train.describe())\n",
    "print(f\"\\nValidation target stats:\")\n",
    "print(y_val.describe())"
   ]
  },
  {
   "cell_type": "markdown",
   "id": "27e49b46",
   "metadata": {},
   "source": [
    "## 📏 Quantile Loss Function"
   ]
  },
  {
   "cell_type": "code",
   "execution_count": 13,
   "id": "eae6a608",
   "metadata": {},
   "outputs": [
    {
     "name": "stdout",
     "output_type": "stream",
     "text": [
      "Under-prediction loss: 4.00\n",
      "Over-prediction loss: 16.00\n",
      "Ratio: 4.0x\n",
      "✅ Quantile loss function ready\n"
     ]
    }
   ],
   "source": [
    "def quantile_loss(y_true, y_pred, quantile=0.2):\n",
    "    \"\"\"\n",
    "    Calculate quantile loss.\n",
    "    \n",
    "    For quantile=0.2:\n",
    "    - Under-prediction (y_true > y_pred): weight = 0.2\n",
    "    - Over-prediction (y_true < y_pred): weight = 0.8\n",
    "    \n",
    "    Over-prediction is penalized 4x more!\n",
    "    \"\"\"\n",
    "    y_true = np.array(y_true)\n",
    "    y_pred = np.array(y_pred)\n",
    "    errors = y_true - y_pred\n",
    "    loss = np.where(\n",
    "        errors >= 0,\n",
    "        quantile * errors,\n",
    "        (quantile - 1) * errors\n",
    "    )\n",
    "    return loss.sum()\n",
    "\n",
    "def quantile_score(y_true, y_pred, quantile=0.2):\n",
    "    \"\"\"Mean quantile loss (for comparison).\"\"\"\n",
    "    return quantile_loss(y_true, y_pred, quantile) / len(y_true)\n",
    "\n",
    "# Test\n",
    "test_true = np.array([100, 100, 100])\n",
    "test_pred_under = np.array([80, 80, 80])  # Under-predict by 20\n",
    "test_pred_over = np.array([120, 120, 120])  # Over-predict by 20\n",
    "\n",
    "print(f\"Under-prediction loss: {quantile_score(test_true, test_pred_under, 0.2):.2f}\")\n",
    "print(f\"Over-prediction loss: {quantile_score(test_true, test_pred_over, 0.2):.2f}\")\n",
    "print(f\"Ratio: {quantile_score(test_true, test_pred_over, 0.2) / quantile_score(test_true, test_pred_under, 0.2):.1f}x\")\n",
    "print(\"✅ Quantile loss function ready\")"
   ]
  },
  {
   "cell_type": "markdown",
   "id": "da045197",
   "metadata": {},
   "source": [
    "## 🤖 Model 1: CatBoost with Quantile Regression"
   ]
  },
  {
   "cell_type": "code",
   "execution_count": 14,
   "id": "b865624c",
   "metadata": {},
   "outputs": [
    {
     "name": "stdout",
     "output_type": "stream",
     "text": [
      "Training CatBoost baseline...\n",
      "0:\tlearn: 38625.1470195\ttest: 41724.9383962\tbest: 41724.9383962 (0)\ttotal: 70.7ms\tremaining: 3m 31s\n",
      "200:\tlearn: 17854.9325653\ttest: 19187.4574358\tbest: 19187.4574358 (200)\ttotal: 1.73s\tremaining: 24.1s\n",
      "200:\tlearn: 17854.9325653\ttest: 19187.4574358\tbest: 19187.4574358 (200)\ttotal: 1.73s\tremaining: 24.1s\n",
      "400:\tlearn: 14030.4435569\ttest: 16256.3116006\tbest: 16256.3116006 (400)\ttotal: 3.56s\tremaining: 23.1s\n",
      "400:\tlearn: 14030.4435569\ttest: 16256.3116006\tbest: 16256.3116006 (400)\ttotal: 3.56s\tremaining: 23.1s\n",
      "600:\tlearn: 12065.5059553\ttest: 15154.1157582\tbest: 15154.1157582 (600)\ttotal: 5.21s\tremaining: 20.8s\n",
      "600:\tlearn: 12065.5059553\ttest: 15154.1157582\tbest: 15154.1157582 (600)\ttotal: 5.21s\tremaining: 20.8s\n",
      "800:\tlearn: 10955.7544608\ttest: 14796.5187846\tbest: 14791.1411830 (795)\ttotal: 6.92s\tremaining: 19s\n",
      "800:\tlearn: 10955.7544608\ttest: 14796.5187846\tbest: 14791.1411830 (795)\ttotal: 6.92s\tremaining: 19s\n",
      "1000:\tlearn: 9927.1778139\ttest: 14548.8777073\tbest: 14548.8777073 (1000)\ttotal: 8.56s\tremaining: 17.1s\n",
      "1000:\tlearn: 9927.1778139\ttest: 14548.8777073\tbest: 14548.8777073 (1000)\ttotal: 8.56s\tremaining: 17.1s\n",
      "1200:\tlearn: 9176.3531064\ttest: 14301.2257396\tbest: 14301.2257396 (1200)\ttotal: 10.2s\tremaining: 15.2s\n",
      "1200:\tlearn: 9176.3531064\ttest: 14301.2257396\tbest: 14301.2257396 (1200)\ttotal: 10.2s\tremaining: 15.2s\n",
      "1400:\tlearn: 8743.1863489\ttest: 14264.7411761\tbest: 14241.6673395 (1356)\ttotal: 11.8s\tremaining: 13.5s\n",
      "1400:\tlearn: 8743.1863489\ttest: 14264.7411761\tbest: 14241.6673395 (1356)\ttotal: 11.8s\tremaining: 13.5s\n",
      "Stopped by overfitting detector  (200 iterations wait)\n",
      "\n",
      "bestTest = 14241.66734\n",
      "bestIteration = 1356\n",
      "\n",
      "Shrink model to first 1357 iterations.\n",
      "\n",
      "✅ CatBoost training complete\n",
      "Stopped by overfitting detector  (200 iterations wait)\n",
      "\n",
      "bestTest = 14241.66734\n",
      "bestIteration = 1356\n",
      "\n",
      "Shrink model to first 1357 iterations.\n",
      "\n",
      "✅ CatBoost training complete\n"
     ]
    }
   ],
   "source": [
    "# CatBoost baseline\n",
    "print(\"Training CatBoost baseline...\")\n",
    "\n",
    "catboost_params = {\n",
    "    'loss_function': 'Quantile:alpha=0.2',\n",
    "    'iterations': 3000,\n",
    "    'depth': 8,\n",
    "    'learning_rate': 0.03,\n",
    "    'l2_leaf_reg': 5,\n",
    "    'random_strength': 1.5,\n",
    "    'bagging_temperature': 0.5,\n",
    "    'bootstrap_type': 'Bayesian',\n",
    "    'random_state': RANDOM_STATE,\n",
    "    'verbose': 200,\n",
    "    'early_stopping_rounds': 200\n",
    "}\n",
    "\n",
    "catboost_model = CatBoostRegressor(**catboost_params)\n",
    "\n",
    "catboost_model.fit(\n",
    "    X_train, y_train,\n",
    "    eval_set=(X_val, y_val),\n",
    "    use_best_model=True,\n",
    "    plot=False\n",
    ")\n",
    "\n",
    "print(\"\\n✅ CatBoost training complete\")"
   ]
  },
  {
   "cell_type": "code",
   "execution_count": 15,
   "id": "20e229c2",
   "metadata": {},
   "outputs": [
    {
     "name": "stdout",
     "output_type": "stream",
     "text": [
      "CatBoost Quantile Loss (0.2):\n",
      "  Train: 8,867.54\n",
      "  Validation: 14,241.67\n",
      "\n",
      "Under-prediction ratio:\n",
      "  Train: 80.5%\n",
      "  Validation: 72.9%\n",
      "  Target: ~80%\n",
      "\n",
      "Zero predictions (validation): 0.0%\n"
     ]
    }
   ],
   "source": [
    "# Evaluate CatBoost\n",
    "catboost_pred_train = catboost_model.predict(X_train)\n",
    "catboost_pred_val = catboost_model.predict(X_val)\n",
    "\n",
    "catboost_ql_train = quantile_score(y_train, catboost_pred_train, 0.2)\n",
    "catboost_ql_val = quantile_score(y_val, catboost_pred_val, 0.2)\n",
    "\n",
    "print(f\"CatBoost Quantile Loss (0.2):\")\n",
    "print(f\"  Train: {catboost_ql_train:,.2f}\")\n",
    "print(f\"  Validation: {catboost_ql_val:,.2f}\")\n",
    "\n",
    "# Under-prediction ratio\n",
    "under_preds_train = (catboost_pred_train < y_train).mean()\n",
    "under_preds_val = (catboost_pred_val < y_val).mean()\n",
    "\n",
    "print(f\"\\nUnder-prediction ratio:\")\n",
    "print(f\"  Train: {under_preds_train:.1%}\")\n",
    "print(f\"  Validation: {under_preds_val:.1%}\")\n",
    "print(f\"  Target: ~80%\")\n",
    "\n",
    "# Zero predictions\n",
    "zero_preds_val = (catboost_pred_val == 0).mean()\n",
    "print(f\"\\nZero predictions (validation): {zero_preds_val:.1%}\")"
   ]
  },
  {
   "cell_type": "markdown",
   "id": "771ac851",
   "metadata": {},
   "source": [
    "## 🤖 Model 2: LightGBM with Quantile Regression"
   ]
  },
  {
   "cell_type": "code",
   "execution_count": 16,
   "id": "da9e3609",
   "metadata": {},
   "outputs": [
    {
     "name": "stdout",
     "output_type": "stream",
     "text": [
      "Training LightGBM baseline...\n",
      "Training until validation scores don't improve for 200 rounds\n",
      "[200]\ttrain's quantile: 20950.5\tvalid's quantile: 23930\n",
      "[200]\ttrain's quantile: 20950.5\tvalid's quantile: 23930\n",
      "[400]\ttrain's quantile: 16286.5\tvalid's quantile: 19336.6\n",
      "[400]\ttrain's quantile: 16286.5\tvalid's quantile: 19336.6\n",
      "[600]\ttrain's quantile: 14766.9\tvalid's quantile: 18085.3\n",
      "[600]\ttrain's quantile: 14766.9\tvalid's quantile: 18085.3\n",
      "[800]\ttrain's quantile: 13537.9\tvalid's quantile: 17133.3\n",
      "[800]\ttrain's quantile: 13537.9\tvalid's quantile: 17133.3\n",
      "[1000]\ttrain's quantile: 12518.3\tvalid's quantile: 16188.1\n",
      "[1000]\ttrain's quantile: 12518.3\tvalid's quantile: 16188.1\n",
      "[1200]\ttrain's quantile: 11863.1\tvalid's quantile: 15516.8\n",
      "[1200]\ttrain's quantile: 11863.1\tvalid's quantile: 15516.8\n",
      "[1400]\ttrain's quantile: 11503.2\tvalid's quantile: 15239.1\n",
      "[1400]\ttrain's quantile: 11503.2\tvalid's quantile: 15239.1\n",
      "[1600]\ttrain's quantile: 11017.2\tvalid's quantile: 14938.6\n",
      "[1600]\ttrain's quantile: 11017.2\tvalid's quantile: 14938.6\n",
      "[1800]\ttrain's quantile: 10699.9\tvalid's quantile: 14739.2\n",
      "[1800]\ttrain's quantile: 10699.9\tvalid's quantile: 14739.2\n",
      "[2000]\ttrain's quantile: 10382\tvalid's quantile: 14568.4\n",
      "[2000]\ttrain's quantile: 10382\tvalid's quantile: 14568.4\n",
      "[2200]\ttrain's quantile: 10104.5\tvalid's quantile: 14410.2\n",
      "[2200]\ttrain's quantile: 10104.5\tvalid's quantile: 14410.2\n",
      "[2400]\ttrain's quantile: 9907.17\tvalid's quantile: 14323.9\n",
      "[2400]\ttrain's quantile: 9907.17\tvalid's quantile: 14323.9\n",
      "[2600]\ttrain's quantile: 9779.44\tvalid's quantile: 14272.2\n",
      "[2600]\ttrain's quantile: 9779.44\tvalid's quantile: 14272.2\n",
      "[2800]\ttrain's quantile: 9673.34\tvalid's quantile: 14226.5\n",
      "[2800]\ttrain's quantile: 9673.34\tvalid's quantile: 14226.5\n",
      "[3000]\ttrain's quantile: 9501.24\tvalid's quantile: 14130.7\n",
      "Did not meet early stopping. Best iteration is:\n",
      "[3000]\ttrain's quantile: 9501.24\tvalid's quantile: 14130.7\n",
      "\n",
      "✅ LightGBM training complete\n",
      "[3000]\ttrain's quantile: 9501.24\tvalid's quantile: 14130.7\n",
      "Did not meet early stopping. Best iteration is:\n",
      "[3000]\ttrain's quantile: 9501.24\tvalid's quantile: 14130.7\n",
      "\n",
      "✅ LightGBM training complete\n"
     ]
    }
   ],
   "source": [
    "# LightGBM baseline\n",
    "print(\"Training LightGBM baseline...\")\n",
    "\n",
    "lgb_params = {\n",
    "    'objective': 'quantile',\n",
    "    'alpha': 0.2,\n",
    "    'metric': 'quantile',\n",
    "    'num_leaves': 64,\n",
    "    'learning_rate': 0.03,\n",
    "    'feature_fraction': 0.8,\n",
    "    'bagging_fraction': 0.8,\n",
    "    'bagging_freq': 5,\n",
    "    'min_data_in_leaf': 20,\n",
    "    'lambda_l1': 1.0,\n",
    "    'lambda_l2': 1.0,\n",
    "    'max_depth': -1,\n",
    "    'random_state': RANDOM_STATE,\n",
    "    'verbose': -1\n",
    "}\n",
    "\n",
    "lgb_train = lgb.Dataset(X_train, y_train)\n",
    "lgb_val = lgb.Dataset(X_val, y_val, reference=lgb_train)\n",
    "\n",
    "lgb_model = lgb.train(\n",
    "    lgb_params,\n",
    "    lgb_train,\n",
    "    num_boost_round=3000,\n",
    "    valid_sets=[lgb_train, lgb_val],\n",
    "    valid_names=['train', 'valid'],\n",
    "    callbacks=[\n",
    "        lgb.early_stopping(stopping_rounds=200),\n",
    "        lgb.log_evaluation(period=200)\n",
    "    ]\n",
    ")\n",
    "\n",
    "print(\"\\n✅ LightGBM training complete\")"
   ]
  },
  {
   "cell_type": "code",
   "execution_count": 17,
   "id": "ba4367e9",
   "metadata": {},
   "outputs": [
    {
     "name": "stdout",
     "output_type": "stream",
     "text": [
      "LightGBM Quantile Loss (0.2):\n",
      "  Train: 9,501.24\n",
      "  Validation: 14,130.67\n",
      "\n",
      "Under-prediction ratio:\n",
      "  Train: 80.0%\n",
      "  Validation: 71.2%\n",
      "\n",
      "Zero predictions (validation): 1.2%\n"
     ]
    }
   ],
   "source": [
    "# Evaluate LightGBM\n",
    "lgb_pred_train = lgb_model.predict(X_train, num_iteration=lgb_model.best_iteration)\n",
    "lgb_pred_val = lgb_model.predict(X_val, num_iteration=lgb_model.best_iteration)\n",
    "\n",
    "lgb_ql_train = quantile_score(y_train, lgb_pred_train, 0.2)\n",
    "lgb_ql_val = quantile_score(y_val, lgb_pred_val, 0.2)\n",
    "\n",
    "print(f\"LightGBM Quantile Loss (0.2):\")\n",
    "print(f\"  Train: {lgb_ql_train:,.2f}\")\n",
    "print(f\"  Validation: {lgb_ql_val:,.2f}\")\n",
    "\n",
    "# Under-prediction ratio\n",
    "under_preds_train_lgb = (lgb_pred_train < y_train).mean()\n",
    "under_preds_val_lgb = (lgb_pred_val < y_val).mean()\n",
    "\n",
    "print(f\"\\nUnder-prediction ratio:\")\n",
    "print(f\"  Train: {under_preds_train_lgb:.1%}\")\n",
    "print(f\"  Validation: {under_preds_val_lgb:.1%}\")\n",
    "\n",
    "# Zero predictions\n",
    "zero_preds_val_lgb = (lgb_pred_val == 0).mean()\n",
    "print(f\"\\nZero predictions (validation): {zero_preds_val_lgb:.1%}\")"
   ]
  },
  {
   "cell_type": "markdown",
   "id": "9576ff97",
   "metadata": {},
   "source": [
    "## 📊 Feature Importance Analysis"
   ]
  },
  {
   "cell_type": "code",
   "execution_count": 18,
   "id": "dc1d00a9",
   "metadata": {},
   "outputs": [
    {
     "name": "stdout",
     "output_type": "stream",
     "text": [
      "Top 20 CatBoost Features:\n",
      "                    feature  importance\n",
      "122           horizon_weeks   11.616673\n",
      "0              horizon_days   11.284982\n",
      "108  po_weight_future_total    7.170412\n",
      "78                     year    1.896885\n",
      "115   delivery_total_weight    1.833825\n",
      "41            roll_p50_112d    1.481923\n",
      "116     delivery_avg_weight    1.451143\n",
      "91         po_lead_time_std    1.430671\n",
      "27             roll_p50_56d    1.326533\n",
      "2              roll_mean_7d    1.285559\n",
      "8              roll_sum_14d    1.237128\n",
      "82                 week_cos    1.223456\n",
      "99           po_count_31_60    1.214915\n",
      "123      forecast_end_month    1.212987\n",
      "55            roll_p50_224d    1.171086\n",
      "34             roll_p50_84d    1.143154\n",
      "113   supplier_unique_count    1.141307\n",
      "31             roll_std_84d    1.138973\n",
      "13             roll_p50_14d    1.060357\n",
      "70          trend_slope_90d    1.035809\n"
     ]
    },
    {
     "data": {
      "image/png": "[encoded data removed]",
      "text/plain": [
       "<Figure size 1200x800 with 1 Axes>"
      ]
     },
     "metadata": {},
     "output_type": "display_data"
    }
   ],
   "source": [
    "# CatBoost feature importance\n",
    "catboost_importance = pd.DataFrame({\n",
    "    'feature': feature_cols,\n",
    "    'importance': catboost_model.feature_importances_\n",
    "}).sort_values('importance', ascending=False)\n",
    "\n",
    "print(\"Top 20 CatBoost Features:\")\n",
    "print(catboost_importance.head(20))\n",
    "\n",
    "# Plot\n",
    "plt.figure(figsize=(12, 8))\n",
    "plt.barh(range(20), catboost_importance.head(20)['importance'].values)\n",
    "plt.yticks(range(20), catboost_importance.head(20)['feature'].values)\n",
    "plt.xlabel('Importance')\n",
    "plt.title('CatBoost Top 20 Features')\n",
    "plt.gca().invert_yaxis()\n",
    "plt.tight_layout()\n",
    "plt.show()"
   ]
  },
  {
   "cell_type": "code",
   "execution_count": 19,
   "id": "96cc610e",
   "metadata": {},
   "outputs": [
    {
     "name": "stdout",
     "output_type": "stream",
     "text": [
      "Top 20 LightGBM Features:\n",
      "                          feature     importance\n",
      "60                 ewm_mean_span7  734922.464691\n",
      "108        po_weight_future_total  650937.368300\n",
      "73             zero_streak_length  617262.789140\n",
      "119  raw_material_alloy_mode_code  413861.262079\n",
      "65                 ewm_std_span30  350180.660259\n",
      "61                  ewm_std_span7  249356.521161\n",
      "66                ewm_mean_span90  170802.403545\n",
      "80                      month_cos  163914.221800\n",
      "82                       week_cos  163811.632022\n",
      "64                ewm_mean_span30  141275.584586\n",
      "109              po_future_orders  129704.000058\n",
      "62                ewm_mean_span14  128832.041127\n",
      "113         supplier_unique_count  119600.886435\n",
      "121      stock_location_mode_code  108407.172687\n",
      "106             po_weight_181_365   92049.082232\n",
      "75                   week_of_year   91687.418559\n",
      "78                           year   87913.417316\n",
      "115         delivery_total_weight   84761.511463\n",
      "114       supplier_delivery_count   80922.338316\n",
      "116           delivery_avg_weight   76972.601811\n"
     ]
    },
    {
     "data": {
      "image/png": "[encoded data removed]",
      "text/plain": [
       "<Figure size 1200x800 with 1 Axes>"
      ]
     },
     "metadata": {},
     "output_type": "display_data"
    }
   ],
   "source": [
    "# LightGBM feature importance\n",
    "lgb_importance = pd.DataFrame({\n",
    "    'feature': feature_cols,\n",
    "    'importance': lgb_model.feature_importance(importance_type='gain')\n",
    "}).sort_values('importance', ascending=False)\n",
    "\n",
    "print(\"Top 20 LightGBM Features:\")\n",
    "print(lgb_importance.head(20))\n",
    "\n",
    "# Plot\n",
    "plt.figure(figsize=(12, 8))\n",
    "plt.barh(range(20), lgb_importance.head(20)['importance'].values)\n",
    "plt.yticks(range(20), lgb_importance.head(20)['feature'].values)\n",
    "plt.xlabel('Importance')\n",
    "plt.title('LightGBM Top 20 Features')\n",
    "plt.gca().invert_yaxis()\n",
    "plt.tight_layout()\n",
    "plt.show()"
   ]
  },
  {
   "cell_type": "markdown",
   "id": "94fd0b48",
   "metadata": {},
   "source": [
    "## 🔀 Ensemble Models"
   ]
  },
  {
   "cell_type": "code",
   "execution_count": 20,
   "id": "8a02b387",
   "metadata": {},
   "outputs": [
    {
     "name": "stdout",
     "output_type": "stream",
     "text": [
      "Ensemble (50/50) Quantile Loss: 13,689.70\n",
      "Under-prediction ratio: 75.5%\n",
      "\n",
      "Weighted Ensemble (40%/60%) Quantile Loss: 13,709.26\n",
      "Under-prediction ratio: 75.2%\n",
      "\n",
      "Conservative Ensemble (×0.95) Quantile Loss: 13,676.49\n",
      "Under-prediction ratio: 77.1%\n"
     ]
    }
   ],
   "source": [
    "# Simple average ensemble\n",
    "ensemble_pred_val = (catboost_pred_val + lgb_pred_val) / 2\n",
    "ensemble_ql_val = quantile_score(y_val, ensemble_pred_val, 0.2)\n",
    "\n",
    "print(f\"Ensemble (50/50) Quantile Loss: {ensemble_ql_val:,.2f}\")\n",
    "print(f\"Under-prediction ratio: {(ensemble_pred_val < y_val).mean():.1%}\")\n",
    "\n",
    "# Weighted ensemble (favor better model)\n",
    "if catboost_ql_val < lgb_ql_val:\n",
    "    w_cat, w_lgb = 0.6, 0.4\n",
    "else:\n",
    "    w_cat, w_lgb = 0.4, 0.6\n",
    "\n",
    "weighted_ensemble_pred_val = w_cat * catboost_pred_val + w_lgb * lgb_pred_val\n",
    "weighted_ql_val = quantile_score(y_val, weighted_ensemble_pred_val, 0.2)\n",
    "\n",
    "print(f\"\\nWeighted Ensemble ({w_cat:.0%}/{w_lgb:.0%}) Quantile Loss: {weighted_ql_val:,.2f}\")\n",
    "print(f\"Under-prediction ratio: {(weighted_ensemble_pred_val < y_val).mean():.1%}\")\n",
    "\n",
    "# Conservative ensemble (multiply by shrink factor)\n",
    "shrink_factor = 0.95\n",
    "conservative_pred_val = ensemble_pred_val * shrink_factor\n",
    "conservative_ql_val = quantile_score(y_val, conservative_pred_val, 0.2)\n",
    "\n",
    "print(f\"\\nConservative Ensemble (×{shrink_factor}) Quantile Loss: {conservative_ql_val:,.2f}\")\n",
    "print(f\"Under-prediction ratio: {(conservative_pred_val < y_val).mean():.1%}\")"
   ]
  },
  {
   "cell_type": "markdown",
   "id": "b2c8f326",
   "metadata": {},
   "source": [
    "## 📊 Model Comparison Summary"
   ]
  },
  {
   "cell_type": "code",
   "execution_count": 21,
   "id": "63a88809",
   "metadata": {},
   "outputs": [
    {
     "name": "stdout",
     "output_type": "stream",
     "text": [
      "\n",
      "============================================================\n",
      "MODEL COMPARISON (Validation Set)\n",
      "============================================================\n",
      "               Model    QL Train       QL Val  Under-pred %\n",
      "Conservative (×0.95)         NaN 13676.493214     77.100000\n",
      "    Ensemble (50/50)         NaN 13689.699416     75.550000\n",
      "  Weighted (40%/60%)         NaN 13709.255164     75.250000\n",
      "            LightGBM 9501.244993 14130.670747     71.150000\n",
      "            CatBoost 8867.540405 14241.667340     72.916667\n",
      "============================================================\n",
      "\n",
      "Target under-prediction ratio: ~80%\n",
      "Best model: Conservative (×0.95)\n"
     ]
    }
   ],
   "source": [
    "# Summary table\n",
    "results = pd.DataFrame([\n",
    "    {\n",
    "        'Model': 'CatBoost',\n",
    "        'QL Train': catboost_ql_train,\n",
    "        'QL Val': catboost_ql_val,\n",
    "        'Under-pred %': under_preds_val * 100\n",
    "    },\n",
    "    {\n",
    "        'Model': 'LightGBM',\n",
    "        'QL Train': lgb_ql_train,\n",
    "        'QL Val': lgb_ql_val,\n",
    "        'Under-pred %': under_preds_val_lgb * 100\n",
    "    },\n",
    "    {\n",
    "        'Model': 'Ensemble (50/50)',\n",
    "        'QL Train': np.nan,\n",
    "        'QL Val': ensemble_ql_val,\n",
    "        'Under-pred %': (ensemble_pred_val < y_val).mean() * 100\n",
    "    },\n",
    "    {\n",
    "        'Model': f'Weighted ({w_cat:.0%}/{w_lgb:.0%})',\n",
    "        'QL Train': np.nan,\n",
    "        'QL Val': weighted_ql_val,\n",
    "        'Under-pred %': (weighted_ensemble_pred_val < y_val).mean() * 100\n",
    "    },\n",
    "    {\n",
    "        'Model': f'Conservative (×{shrink_factor})',\n",
    "        'QL Train': np.nan,\n",
    "        'QL Val': conservative_ql_val,\n",
    "        'Under-pred %': (conservative_pred_val < y_val).mean() * 100\n",
    "    }\n",
    "]).sort_values('QL Val')\n",
    "\n",
    "print(\"\\n\" + \"=\"*60)\n",
    "print(\"MODEL COMPARISON (Validation Set)\")\n",
    "print(\"=\"*60)\n",
    "print(results.to_string(index=False))\n",
    "print(\"=\"*60)\n",
    "print(f\"\\nTarget under-prediction ratio: ~80%\")\n",
    "print(f\"Best model: {results.iloc[0]['Model']}\")"
   ]
  },
  {
   "cell_type": "markdown",
   "id": "27d02578",
   "metadata": {},
   "source": [
    "## 🎯 Generate Predictions for Submission"
   ]
  },
  {
   "cell_type": "code",
   "execution_count": 22,
   "id": "582c9045",
   "metadata": {},
   "outputs": [
    {
     "name": "stdout",
     "output_type": "stream",
     "text": [
      "Prediction matrix: (30450, 125)\n",
      "Matches prediction_mapping: True\n"
     ]
    }
   ],
   "source": [
    "# Prepare prediction features (from pre-engineered matrix)\n",
    "X_pred = df[feature_cols].copy()\n",
    "X_pred = X_pred.fillna(0)\n",
    "\n",
    "print(f\"Prediction matrix: {X_pred.shape}\")\n",
    "print(f\"Matches prediction_mapping: {len(X_pred) == len(df)}\")"
   ]
  },
  {
   "cell_type": "code",
   "execution_count": 23,
   "id": "e477bb26",
   "metadata": {},
   "outputs": [
    {
     "name": "stdout",
     "output_type": "stream",
     "text": [
      "Generating predictions...\n",
      "✅ Predictions generated\n",
      "✅ Predictions generated\n"
     ]
    }
   ],
   "source": [
    "# Generate predictions with both models\n",
    "print(\"Generating predictions...\")\n",
    "\n",
    "catboost_predictions = catboost_model.predict(X_pred)\n",
    "lgb_predictions = lgb_model.predict(X_pred, num_iteration=lgb_model.best_iteration)\n",
    "\n",
    "# Ensemble (use best ensemble from validation)\n",
    "ensemble_predictions = (catboost_predictions + lgb_predictions) / 2\n",
    "\n",
    "# Apply conservative shrink factor\n",
    "conservative_predictions = ensemble_predictions * 0.95\n",
    "\n",
    "# Ensure non-negative\n",
    "catboost_predictions = np.maximum(0, catboost_predictions)\n",
    "lgb_predictions = np.maximum(0, lgb_predictions)\n",
    "ensemble_predictions = np.maximum(0, ensemble_predictions)\n",
    "conservative_predictions = np.maximum(0, conservative_predictions)\n",
    "\n",
    "print(\"✅ Predictions generated\")"
   ]
  },
  {
   "cell_type": "code",
   "execution_count": 24,
   "id": "737831d3",
   "metadata": {},
   "outputs": [
    {
     "name": "stdout",
     "output_type": "stream",
     "text": [
      "Prediction Statistics:\n",
      "\n",
      "CatBoost:\n",
      "count    3.045000e+04\n",
      "mean     6.977713e+04\n",
      "std      3.264183e+05\n",
      "min      0.000000e+00\n",
      "25%      0.000000e+00\n",
      "50%      1.079866e+03\n",
      "75%      2.291036e+04\n",
      "max      4.483511e+06\n",
      "dtype: float64\n",
      "Zero predictions: 9299 (30.5%)\n",
      "\n",
      "LightGBM:\n",
      "count    3.045000e+04\n",
      "mean     5.619496e+04\n",
      "std      2.574552e+05\n",
      "min      0.000000e+00\n",
      "25%      0.000000e+00\n",
      "50%      1.005780e+02\n",
      "75%      2.573090e+03\n",
      "max      3.280348e+06\n",
      "dtype: float64\n",
      "Zero predictions: 11821 (38.8%)\n",
      "\n",
      "Ensemble:\n",
      "count    3.045000e+04\n",
      "mean     6.294323e+04\n",
      "std      2.907478e+05\n",
      "min      0.000000e+00\n",
      "25%      0.000000e+00\n",
      "50%      7.101366e+02\n",
      "75%      1.207415e+04\n",
      "max      3.877684e+06\n",
      "dtype: float64\n",
      "Zero predictions: 8624 (28.3%)\n",
      "\n",
      "Conservative:\n",
      "count    3.045000e+04\n",
      "mean     5.979607e+04\n",
      "std      2.762105e+05\n",
      "min      0.000000e+00\n",
      "25%      0.000000e+00\n",
      "50%      6.746297e+02\n",
      "75%      1.147044e+04\n",
      "max      3.683799e+06\n",
      "dtype: float64\n",
      "Zero predictions: 8624 (28.3%)\n"
     ]
    }
   ],
   "source": [
    "# Prediction statistics\n",
    "print(\"Prediction Statistics:\")\n",
    "print(\"\\nCatBoost:\")\n",
    "print(pd.Series(catboost_predictions).describe())\n",
    "print(f\"Zero predictions: {(catboost_predictions == 0).sum()} ({(catboost_predictions == 0).mean():.1%})\")\n",
    "\n",
    "print(\"\\nLightGBM:\")\n",
    "print(pd.Series(lgb_predictions).describe())\n",
    "print(f\"Zero predictions: {(lgb_predictions == 0).sum()} ({(lgb_predictions == 0).mean():.1%})\")\n",
    "\n",
    "print(\"\\nEnsemble:\")\n",
    "print(pd.Series(ensemble_predictions).describe())\n",
    "print(f\"Zero predictions: {(ensemble_predictions == 0).sum()} ({(ensemble_predictions == 0).mean():.1%})\")\n",
    "\n",
    "print(\"\\nConservative:\")\n",
    "print(pd.Series(conservative_predictions).describe())\n",
    "print(f\"Zero predictions: {(conservative_predictions == 0).sum()} ({(conservative_predictions == 0).mean():.1%})\")"
   ]
  },
  {
   "cell_type": "markdown",
   "id": "b02496be",
   "metadata": {},
   "source": [
    "## 💾 Create Submission Files"
   ]
  },
  {
   "cell_type": "code",
   "execution_count": 28,
   "id": "5ebeca27",
   "metadata": {},
   "outputs": [
    {
     "name": "stdout",
     "output_type": "stream",
     "text": [
      "✅ Saved: submission_fe_catboost.csv\n",
      "✅ Saved: submission_fe_lgb.csv\n",
      "✅ Saved: submission_fe_ensemble.csv\n",
      "✅ Saved: submission_fe_conservative.csv (RECOMMENDED)\n",
      "\n",
      "============================================================\n",
      "🎉 All submissions ready!\n",
      "============================================================\n",
      "\n",
      "Recommended submission: submission_fe_conservative.csv\n",
      "Upload to Kaggle and compare with baseline score.\n"
     ]
    }
   ],
   "source": [
    "# Load sample submission\n",
    "sample_submission = pd.read_csv('data/sample_submission.csv')\n",
    "\n",
    "# CatBoost submission\n",
    "submission_catboost = pd.DataFrame({\n",
    "    'ID': sample_submission['ID'],\n",
    "    'predicted_weight': catboost_predictions\n",
    "})\n",
    "submission_catboost.to_csv('submission_fe_catboost.csv', index=False)\n",
    "print(\"✅ Saved: submission_fe_catboost.csv\")\n",
    "\n",
    "# LightGBM submission\n",
    "submission_lgb = pd.DataFrame({\n",
    "    'ID': sample_submission['ID'],\n",
    "    'predicted_weight': lgb_predictions\n",
    "})\n",
    "submission_lgb.to_csv('submission_fe_lgb.csv', index=False)\n",
    "print(\"✅ Saved: submission_fe_lgb.csv\")\n",
    "\n",
    "# Ensemble submission\n",
    "submission_ensemble = pd.DataFrame({\n",
    "    'ID': sample_submission['ID'],\n",
    "    'predicted_weight': ensemble_predictions\n",
    "})\n",
    "submission_ensemble.to_csv('submission_fe_ensemble.csv', index=False)\n",
    "print(\"✅ Saved: submission_fe_ensemble.csv\")\n",
    "\n",
    "# Conservative submission (RECOMMENDED)\n",
    "submission_conservative = pd.DataFrame({\n",
    "    'ID': sample_submission['ID'],\n",
    "    'predicted_weight': conservative_predictions\n",
    "})\n",
    "submission_conservative.to_csv('submission_fe_conservative.csv', index=False)\n",
    "print(\"✅ Saved: submission_fe_conservative.csv (RECOMMENDED)\")\n",
    "\n",
    "print(\"\\n\" + \"=\"*60)\n",
    "print(\"🎉 All submissions ready!\")\n",
    "print(\"=\"*60)\n",
    "print(\"\\nRecommended submission: submission_fe_conservative.csv\")\n",
    "print(\"Upload to Kaggle and compare with baseline score.\")"
   ]
  },
  {
   "cell_type": "markdown",
   "id": "0047503e",
   "metadata": {},
   "source": [
    "## 📈 Visualization: Prediction Distribution"
   ]
  },
  {
   "cell_type": "code",
   "execution_count": 26,
   "id": "a887eacd",
   "metadata": {},
   "outputs": [
    {
     "data": {
      "image/png": "[encoded data removed]",
      "text/plain": [
       "<Figure size 1600x1000 with 4 Axes>"
      ]
     },
     "metadata": {},
     "output_type": "display_data"
    }
   ],
   "source": [
    "# Plot prediction distributions\n",
    "fig, axes = plt.subplots(2, 2, figsize=(16, 10))\n",
    "\n",
    "# CatBoost\n",
    "axes[0, 0].hist(catboost_predictions, bins=100, alpha=0.7, edgecolor='black')\n",
    "axes[0, 0].set_xlabel('Predicted Weight (kg)')\n",
    "axes[0, 0].set_ylabel('Frequency')\n",
    "axes[0, 0].set_title('CatBoost Predictions')\n",
    "axes[0, 0].axvline(catboost_predictions.mean(), color='red', linestyle='--', label=f'Mean: {catboost_predictions.mean():,.0f}')\n",
    "axes[0, 0].legend()\n",
    "\n",
    "# LightGBM\n",
    "axes[0, 1].hist(lgb_predictions, bins=100, alpha=0.7, color='green', edgecolor='black')\n",
    "axes[0, 1].set_xlabel('Predicted Weight (kg)')\n",
    "axes[0, 1].set_ylabel('Frequency')\n",
    "axes[0, 1].set_title('LightGBM Predictions')\n",
    "axes[0, 1].axvline(lgb_predictions.mean(), color='red', linestyle='--', label=f'Mean: {lgb_predictions.mean():,.0f}')\n",
    "axes[0, 1].legend()\n",
    "\n",
    "# Ensemble\n",
    "axes[1, 0].hist(ensemble_predictions, bins=100, alpha=0.7, color='orange', edgecolor='black')\n",
    "axes[1, 0].set_xlabel('Predicted Weight (kg)')\n",
    "axes[1, 0].set_ylabel('Frequency')\n",
    "axes[1, 0].set_title('Ensemble Predictions')\n",
    "axes[1, 0].axvline(ensemble_predictions.mean(), color='red', linestyle='--', label=f'Mean: {ensemble_predictions.mean():,.0f}')\n",
    "axes[1, 0].legend()\n",
    "\n",
    "# Conservative\n",
    "axes[1, 1].hist(conservative_predictions, bins=100, alpha=0.7, color='purple', edgecolor='black')\n",
    "axes[1, 1].set_xlabel('Predicted Weight (kg)')\n",
    "axes[1, 1].set_ylabel('Frequency')\n",
    "axes[1, 1].set_title('Conservative Predictions (×0.95)')\n",
    "axes[1, 1].axvline(conservative_predictions.mean(), color='red', linestyle='--', label=f'Mean: {conservative_predictions.mean():,.0f}')\n",
    "axes[1, 1].legend()\n",
    "\n",
    "plt.tight_layout()\n",
    "plt.show()"
   ]
  },
  {
   "cell_type": "markdown",
   "id": "68b1c68b",
   "metadata": {},
   "source": [
    "## 📝 Summary & Next Steps\n",
    "\n",
    "### ✅ What We Did\n",
    "1. Loaded pre-engineered feature matrix with 136 features\n",
    "2. Created 30,000 training samples from historical data\n",
    "3. Trained CatBoost and LightGBM with quantile regression (α=0.2)\n",
    "4. Created ensemble models\n",
    "5. Generated 4 submission files\n",
    "\n",
    "### 🎯 Expected Results\n",
    "- **Baseline**: V5 Ultra Conservative - Rank 123/187\n",
    "- **Target**: Improve by 15-25% → Rank ~80-100\n",
    "\n",
    "### 📤 Upload Recommendations\n",
    "1. **First**: Upload `submission_fe_conservative.csv` (safest, most conservative)\n",
    "2. **Second**: Upload `submission_fe_ensemble.csv` (balanced)\n",
    "3. **Third**: Upload `submission_fe_catboost.csv` or `submission_fe_lgb.csv` (individual models)\n",
    "\n",
    "### 🚀 Next Improvements\n",
    "1. **Optuna Hyperparameter Tuning**: Run 300-500 trials to optimize both models\n",
    "2. **More Training Samples**: Increase to 50,000+ samples\n",
    "3. **Cross-Validation**: 5-fold CV for more robust predictions\n",
    "4. **Feature Selection**: Remove low-importance features\n",
    "5. **Stacking**: Add meta-learner on top of base models\n",
    "6. **Deep Learning**: Add Temporal Fusion Transformer (TFT) to ensemble\n",
    "\n",
    "### 💡 Key Insights\n",
    "- Rolling features (7-224 days) are likely most important\n",
    "- Purchase order features add significant value\n",
    "- Conservative scaling (0.95×) helps achieve target under-prediction ratio\n",
    "- Ensemble reduces variance and improves robustness"
   ]
  }
 ],
 "metadata": {
  "kernelspec": {
   "display_name": "siv",
   "language": "python",
   "name": "python3"
  },
  "language_info": {
   "codemirror_mode": {
    "name": "ipython",
    "version": 3
   },
   "file_extension": ".py",
   "mimetype": "text/x-python",
   "name": "python",
   "nbconvert_exporter": "python",
   "pygments_lexer": "ipython3",
   "version": "3.12.7"
  }
 },
 "nbformat": 4,
 "nbformat_minor": 5
}
